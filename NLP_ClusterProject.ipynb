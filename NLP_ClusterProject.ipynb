{
 "cells": [
  {
   "cell_type": "code",
   "execution_count": 16,
   "metadata": {},
   "outputs": [
    {
     "name": "stdout",
     "output_type": "stream",
     "text": [
      "Requirement already satisfied: nltk in c:\\users\\anton\\appdata\\local\\programs\\python\\python38\\lib\\site-packages (3.6.7)\n",
      "Collecting nltk\n",
      "  Downloading nltk-3.8.1-py3-none-any.whl (1.5 MB)\n",
      "     ---------------------------------------- 1.5/1.5 MB 8.0 MB/s eta 0:00:00\n",
      "Requirement already satisfied: click in c:\\users\\anton\\appdata\\local\\programs\\python\\python38\\lib\\site-packages (from nltk) (8.0.3)\n",
      "Requirement already satisfied: regex>=2021.8.3 in c:\\users\\anton\\appdata\\local\\programs\\python\\python38\\lib\\site-packages (from nltk) (2022.1.18)\n",
      "Requirement already satisfied: joblib in c:\\users\\anton\\appdata\\local\\programs\\python\\python38\\lib\\site-packages (from nltk) (1.1.0)\n",
      "Requirement already satisfied: tqdm in c:\\users\\anton\\appdata\\local\\programs\\python\\python38\\lib\\site-packages (from nltk) (4.62.3)\n",
      "Requirement already satisfied: colorama in c:\\users\\anton\\appdata\\roaming\\python\\python38\\site-packages (from click->nltk) (0.4.3)\n",
      "Installing collected packages: nltk\n",
      "Successfully installed nltk-3.8.1\n"
     ]
    }
   ],
   "source": [
    "import pandas as pd\n",
    "import numpy as np\n",
    "\n",
    "from nltk.tokenize import word_tokenize\n",
    "\n",
    "\n",
    "!pip install --user -U nltk"
   ]
  },
  {
   "cell_type": "code",
   "execution_count": 23,
   "metadata": {},
   "outputs": [],
   "source": [
    "def tokenize(abstract):\n",
    "    return word_tokenize(abstract)\n",
    "\n",
    "def remove_stopwords(abstract):\n",
    "    return 0\n",
    "\n",
    "\n",
    "def noise_removal(abstract):\n",
    "    return 0\n",
    "\n",
    "def stemming(abstract):\n",
    "    return 0"
   ]
  },
  {
   "cell_type": "code",
   "execution_count": 3,
   "metadata": {},
   "outputs": [],
   "source": [
    "def clean_master(df):\n",
    "    df = df[df.en != False]\n",
    "    return df"
   ]
  },
  {
   "attachments": {},
   "cell_type": "markdown",
   "metadata": {},
   "source": [
    "    for row in df:\n",
    "        a = row[\"abstract\"]\n",
    "        b = remove_stopwords(a)\n",
    "        b = tokenize(b)\n",
    "        b = noise_removal(b)\n",
    "        b = stemming(b)\n",
    "        # df[iloc[row]][\"sanitized\"] = b "
   ]
  },
  {
   "cell_type": "code",
   "execution_count": 29,
   "metadata": {},
   "outputs": [
    {
     "name": "stdout",
     "output_type": "stream",
     "text": [
      "HELLOOO\n",
      "Climate change adaptation is one of the main strategies to address global climate change. The least developed countries and the small island states that lack financial resources to adapt to climate change are the most vulnerable nations to climate change. Although it would be more economical to adapt to climate change compared to the anticipated damage of not doing so, the demand for capital is estimated to range to hundreds of billions. The crucial question is how to manage investments to adapt to climate change globally. This study provides an overview of existing international provisions on climate finance for adaptation. It includes provisions through international financial institutions, United Nations agencies, bilateral and multilateral channels, and the private sector. It also explores how private sector finance can be further attracted to invest in climate change adaptation.\n",
      "['Climate', 'change', 'adaptation', 'is', 'one', 'of', 'the', 'main', 'strategies', 'to', 'address', 'global', 'climate', 'change', '.', 'The', 'least', 'developed', 'countries', 'and', 'the', 'small', 'island', 'states', 'that', 'lack', 'financial', 'resources', 'to', 'adapt', 'to', 'climate', 'change', 'are', 'the', 'most', 'vulnerable', 'nations', 'to', 'climate', 'change', '.', 'Although', 'it', 'would', 'be', 'more', 'economical', 'to', 'adapt', 'to', 'climate', 'change', 'compared', 'to', 'the', 'anticipated', 'damage', 'of', 'not', 'doing', 'so', ',', 'the', 'demand', 'for', 'capital', 'is', 'estimated', 'to', 'range', 'to', 'hundreds', 'of', 'billions', '.', 'The', 'crucial', 'question', 'is', 'how', 'to', 'manage', 'investments', 'to', 'adapt', 'to', 'climate', 'change', 'globally', '.', 'This', 'study', 'provides', 'an', 'overview', 'of', 'existing', 'international', 'provisions', 'on', 'climate', 'finance', 'for', 'adaptation', '.', 'It', 'includes', 'provisions', 'through', 'international', 'financial', 'institutions', ',', 'United', 'Nations', 'agencies', ',', 'bilateral', 'and', 'multilateral', 'channels', ',', 'and', 'the', 'private', 'sector', '.', 'It', 'also', 'explores', 'how', 'private', 'sector', 'finance', 'can', 'be', 'further', 'attracted', 'to', 'invest', 'in', 'climate', 'change', 'adaptation', '.']\n"
     ]
    },
    {
     "data": {
      "text/html": [
       "<div>\n",
       "<style scoped>\n",
       "    .dataframe tbody tr th:only-of-type {\n",
       "        vertical-align: middle;\n",
       "    }\n",
       "\n",
       "    .dataframe tbody tr th {\n",
       "        vertical-align: top;\n",
       "    }\n",
       "\n",
       "    .dataframe thead th {\n",
       "        text-align: right;\n",
       "    }\n",
       "</style>\n",
       "<table border=\"1\" class=\"dataframe\">\n",
       "  <thead>\n",
       "    <tr style=\"text-align: right;\">\n",
       "      <th></th>\n",
       "      <th>Abstract</th>\n",
       "      <th>WOS</th>\n",
       "      <th>en</th>\n",
       "      <th>Link</th>\n",
       "    </tr>\n",
       "  </thead>\n",
       "  <tbody>\n",
       "    <tr>\n",
       "      <th>0</th>\n",
       "      <td>Climate change adaptation is one of the main s...</td>\n",
       "      <td>WOS:000666451800001</td>\n",
       "      <td>True</td>\n",
       "      <td>&lt;a href=\"https://www.webofscience.com/wos/wosc...</td>\n",
       "    </tr>\n",
       "    <tr>\n",
       "      <th>1</th>\n",
       "      <td>The absence of clear signals from the Norwegia...</td>\n",
       "      <td>WOS:000320956800008</td>\n",
       "      <td>True</td>\n",
       "      <td>&lt;a href=\"https://www.webofscience.com/wos/wosc...</td>\n",
       "    </tr>\n",
       "    <tr>\n",
       "      <th>2</th>\n",
       "      <td>Building a climate-ready adaptation society is...</td>\n",
       "      <td>WOS:000417078200110</td>\n",
       "      <td>True</td>\n",
       "      <td>&lt;a href=\"https://www.webofscience.com/wos/wosc...</td>\n",
       "    </tr>\n",
       "    <tr>\n",
       "      <th>3</th>\n",
       "      <td>Climate change adaptation frameworks often emp...</td>\n",
       "      <td>WOS:000345061100013</td>\n",
       "      <td>True</td>\n",
       "      <td>&lt;a href=\"https://www.webofscience.com/wos/wosc...</td>\n",
       "    </tr>\n",
       "    <tr>\n",
       "      <th>4</th>\n",
       "      <td>The Intergovernmental Panel on Climate Change ...</td>\n",
       "      <td>WOS:000338711600014</td>\n",
       "      <td>True</td>\n",
       "      <td>&lt;a href=\"https://www.webofscience.com/wos/wosc...</td>\n",
       "    </tr>\n",
       "    <tr>\n",
       "      <th>...</th>\n",
       "      <td>...</td>\n",
       "      <td>...</td>\n",
       "      <td>...</td>\n",
       "      <td>...</td>\n",
       "    </tr>\n",
       "    <tr>\n",
       "      <th>11722</th>\n",
       "      <td>Cities confronted with unsustainable developme...</td>\n",
       "      <td>WOS:000456253500009</td>\n",
       "      <td>True</td>\n",
       "      <td>&lt;a href=\"https://www.webofscience.com/wos/wosc...</td>\n",
       "    </tr>\n",
       "    <tr>\n",
       "      <th>11723</th>\n",
       "      <td>Rangeland ecosystems worldwide are characteriz...</td>\n",
       "      <td>WOS:000506491300001</td>\n",
       "      <td>True</td>\n",
       "      <td>&lt;a href=\"https://www.webofscience.com/wos/wosc...</td>\n",
       "    </tr>\n",
       "    <tr>\n",
       "      <th>11724</th>\n",
       "      <td>Background: The World Health Organization iden...</td>\n",
       "      <td>WOS:000873289500001</td>\n",
       "      <td>True</td>\n",
       "      <td>&lt;a href=\"https://www.webofscience.com/wos/wosc...</td>\n",
       "    </tr>\n",
       "    <tr>\n",
       "      <th>11725</th>\n",
       "      <td>Traditional flood risk paradigms and associate...</td>\n",
       "      <td>WOS:000877017100001</td>\n",
       "      <td>True</td>\n",
       "      <td>&lt;a href=\"https://www.webofscience.com/wos/wosc...</td>\n",
       "    </tr>\n",
       "    <tr>\n",
       "      <th>11726</th>\n",
       "      <td>Calorimetric methods for the performance asses...</td>\n",
       "      <td>WOS:000412959600042</td>\n",
       "      <td>True</td>\n",
       "      <td>&lt;a href=\"https://www.webofscience.com/wos/wosc...</td>\n",
       "    </tr>\n",
       "  </tbody>\n",
       "</table>\n",
       "<p>11725 rows × 4 columns</p>\n",
       "</div>"
      ],
      "text/plain": [
       "                                                Abstract                  WOS  \\\n",
       "0      Climate change adaptation is one of the main s...  WOS:000666451800001   \n",
       "1      The absence of clear signals from the Norwegia...  WOS:000320956800008   \n",
       "2      Building a climate-ready adaptation society is...  WOS:000417078200110   \n",
       "3      Climate change adaptation frameworks often emp...  WOS:000345061100013   \n",
       "4      The Intergovernmental Panel on Climate Change ...  WOS:000338711600014   \n",
       "...                                                  ...                  ...   \n",
       "11722  Cities confronted with unsustainable developme...  WOS:000456253500009   \n",
       "11723  Rangeland ecosystems worldwide are characteriz...  WOS:000506491300001   \n",
       "11724  Background: The World Health Organization iden...  WOS:000873289500001   \n",
       "11725  Traditional flood risk paradigms and associate...  WOS:000877017100001   \n",
       "11726  Calorimetric methods for the performance asses...  WOS:000412959600042   \n",
       "\n",
       "         en                                               Link  \n",
       "0      True  <a href=\"https://www.webofscience.com/wos/wosc...  \n",
       "1      True  <a href=\"https://www.webofscience.com/wos/wosc...  \n",
       "2      True  <a href=\"https://www.webofscience.com/wos/wosc...  \n",
       "3      True  <a href=\"https://www.webofscience.com/wos/wosc...  \n",
       "4      True  <a href=\"https://www.webofscience.com/wos/wosc...  \n",
       "...     ...                                                ...  \n",
       "11722  True  <a href=\"https://www.webofscience.com/wos/wosc...  \n",
       "11723  True  <a href=\"https://www.webofscience.com/wos/wosc...  \n",
       "11724  True  <a href=\"https://www.webofscience.com/wos/wosc...  \n",
       "11725  True  <a href=\"https://www.webofscience.com/wos/wosc...  \n",
       "11726  True  <a href=\"https://www.webofscience.com/wos/wosc...  \n",
       "\n",
       "[11725 rows x 4 columns]"
      ]
     },
     "execution_count": 29,
     "metadata": {},
     "output_type": "execute_result"
    }
   ],
   "source": [
    "def main():\n",
    "    df = pd.read_csv('master.csv')\n",
    "    df = clean_master(df)\n",
    "\n",
    "    for index, row in df.iterrows():\n",
    "        clean_abstract = tokenize(row[\"Abstract\"])\n",
    "        clean_abstract = remove_stopwords(clean_abstract)\n",
    "        break\n",
    "    return df\n",
    "\n",
    "main()"
   ]
  }
 ],
 "metadata": {
  "kernelspec": {
   "display_name": "Python 3",
   "language": "python",
   "name": "python3"
  },
  "language_info": {
   "codemirror_mode": {
    "name": "ipython",
    "version": 3
   },
   "file_extension": ".py",
   "mimetype": "text/x-python",
   "name": "python",
   "nbconvert_exporter": "python",
   "pygments_lexer": "ipython3",
   "version": "3.8.5"
  },
  "orig_nbformat": 4,
  "vscode": {
   "interpreter": {
    "hash": "b5b849740b59898e829a2cf75c921207367acbba25f9d9377ed332832d177c09"
   }
  }
 },
 "nbformat": 4,
 "nbformat_minor": 2
}
