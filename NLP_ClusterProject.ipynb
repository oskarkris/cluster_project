{
 "cells": [
  {
   "cell_type": "code",
   "execution_count": 1,
   "metadata": {},
   "outputs": [
    {
     "name": "stderr",
     "output_type": "stream",
     "text": [
      "[nltk_data] Downloading package omw-1.4 to\n",
      "[nltk_data]     C:\\Users\\oskar\\AppData\\Roaming\\nltk_data...\n",
      "[nltk_data]   Package omw-1.4 is already up-to-date!\n"
     ]
    }
   ],
   "source": [
    "import pandas as pd\n",
    "from nltk.corpus import stopwords\n",
    "from nltk.tokenize import RegexpTokenizer\n",
    "\n",
    "import nltk\n",
    "nltk.download('omw-1.4')\n",
    "\n",
    "# importing modules\n",
    "from nltk.stem.snowball import SnowballStemmer\n",
    "from nltk.stem import WordNetLemmatizer\n",
    "\n",
    "#"
   ]
  },
  {
   "cell_type": "code",
   "execution_count": 2,
   "metadata": {},
   "outputs": [],
   "source": [
    "stemmer = SnowballStemmer(\"porter\")\n",
    "lemmatizer = WordNetLemmatizer()\n",
    "\n",
    "def remove_stopwords(abstract):\n",
    "    stops = set(stopwords.words('english'))\n",
    "    stops.update(['The', 'This','Climate','climate',\n",
    "                  'Adaptation','adaptation','Change','change'])\n",
    "    output= [i for i in abstract if not i in stops] \n",
    "    return output\n",
    "\n",
    "def tokenize(abstract):\n",
    "    tokenizer = RegexpTokenizer(r'\\w+')\n",
    "    return tokenizer.tokenize(abstract)\n",
    "\n",
    "def lemma(abstract):\n",
    "    lemmatized = []\n",
    "    for w in abstract:\n",
    "        if w.lower() == \"copyright\" or w.lower() == \"c\":\n",
    "            break\n",
    "        lemmatized.append(lemmatizer.lemmatize(w.lower()))\n",
    "    return lemmatized\n",
    "\n",
    "def stemming(abstract):\n",
    "    # Change -> chang\n",
    "    # Climate -> climat\n",
    "    # We use Lemmatization instead\n",
    "    stemmed = []\n",
    "    for w in abstract:\n",
    "        stemmed.append(stemmer.stem(w))\n",
    "    return stemmed\n",
    "\n",
    "def nlp(abstract):\n",
    "    lst_text = lemma(remove_stopwords(tokenize(abstract)))\n",
    "    return ' '.join(lst_text)\n",
    "\n",
    "def clean_master(df):\n",
    "    df = df[df.en != False]\n",
    "    return df\n",
    "\n",
    "def main():\n",
    "    df = pd.read_csv('master.csv')\n",
    "    df = clean_master(df)\n",
    "    \n",
    "    df[\"Clean_Abstract\"] = df.apply(\n",
    "        lambda x: nlp(x[\"abstract\"]), axis=1)\n",
    "    \n",
    "    df[\"Abstract_Length\"] = df.apply(\n",
    "        lambda x: len(x[\"Clean_Abstract\"].split(\" \")), axis=1)\n",
    "\n",
    "    df.to_csv(\n",
    "        r'master.csv', index=False)\n",
    "    \n",
    "    return df\n",
    "    "
   ]
  },
  {
   "cell_type": "code",
   "execution_count": 3,
   "metadata": {},
   "outputs": [],
   "source": [
    "create_new = True\n",
    "if create_new:\n",
    "    df = main()\n",
    "else:\n",
    "    print(\"SET create_new = True TO UPDATE master.csv\")"
   ]
  },
  {
   "cell_type": "code",
   "execution_count": 4,
   "metadata": {},
   "outputs": [
    {
     "data": {
      "text/plain": [
       "'one main strategy address global least developed country small island state lack financial resource adapt vulnerable nation although would economical adapt compared anticipated damage demand capital estimated range hundred billion crucial question manage investment adapt globally study provides overview existing international provision finance it includes provision international financial institution united nation agency bilateral multilateral channel private sector it also explores private sector finance attracted invest'"
      ]
     },
     "execution_count": 4,
     "metadata": {},
     "output_type": "execute_result"
    }
   ],
   "source": [
    "df['Clean_Abstract'][0]"
   ]
  },
  {
   "cell_type": "code",
   "execution_count": 5,
   "metadata": {},
   "outputs": [
    {
     "data": {
      "image/png": "[encoded data removed]",
      "text/plain": [
       "<Figure size 640x480 with 1 Axes>"
      ]
     },
     "metadata": {},
     "output_type": "display_data"
    }
   ],
   "source": [
    "#Display distribution of abstract length\n",
    "\n",
    "import matplotlib.pyplot as plt\n",
    "df = pd.read_csv(r\"master.csv\")\n",
    "sizes = {}\n",
    "\n",
    "vals = []\n",
    "for i in range(0, 1000):\n",
    "    sizes[i] = 0\n",
    "\n",
    "for index, row in df.iterrows():\n",
    "    a = row[\"Abstract_Length\"]\n",
    "    sizes[a] += 1\n",
    "\n",
    "\n",
    "data = sizes\n",
    "names = list(data.keys())\n",
    "values = list(data.values())\n",
    "\n",
    "plt.bar(range(len(data)), values)\n",
    "plt.show()\n"
   ]
  }
 ],
 "metadata": {
  "kernelspec": {
   "display_name": "Python 3",
   "language": "python",
   "name": "python3"
  },
  "language_info": {
   "codemirror_mode": {
    "name": "ipython",
    "version": 3
   },
   "file_extension": ".py",
   "mimetype": "text/x-python",
   "name": "python",
   "nbconvert_exporter": "python",
   "pygments_lexer": "ipython3",
   "version": "3.10.2"
  },
  "orig_nbformat": 4
 },
 "nbformat": 4,
 "nbformat_minor": 2
}
