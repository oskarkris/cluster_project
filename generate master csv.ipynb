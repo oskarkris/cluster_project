{
 "cells": [
  {
   "cell_type": "code",
   "execution_count": 2,
   "metadata": {},
   "outputs": [],
   "source": [
    "import pandas as pd\n",
    "import numpy as np\n",
    "from IPython.display import HTML\n",
    "#import langdetect\n",
    "\n",
    "from langdetect import detect, detect_langs"
   ]
  },
  {
   "cell_type": "code",
   "execution_count": 3,
   "metadata": {},
   "outputs": [],
   "source": [
    "def combineCSVs():\n",
    "  dft = pd.read_csv('https://raw.githubusercontent.com/oskarkris/cluster_project/main/csvdata/savedrecs%20(1).csv')\n",
    "  print(\"read first\")\n",
    "  for n in range(2,13):\n",
    "    print(\"read \", n)\n",
    "    df_temp = pd.read_csv(\"https://raw.githubusercontent.com/oskarkris/cluster_project/main/csvdata/savedrecs%20(\"+str(n)+\").csv\")\n",
    "    dft = pd.concat([dft, df_temp])\n",
    "  return dft\n",
    "\n",
    "def saveMaster(dataframe):\n",
    "  dataframe.to_csv(\n",
    "      r'master.csv', index=False)\n",
    "\n",
    "def isEnglish(language):\n",
    "    try:\n",
    "        detected = detect_langs(language)\n",
    "        lang = detected[0].lang\n",
    "        prob = detected[0].prob\n",
    "        if lang == \"en\" and prob > 0.95:\n",
    "            return True\n",
    "        else:\n",
    "            return False\n",
    "    except:\n",
    "        return False\n",
    "\n",
    "def make_clickable(url, name):\n",
    "    return '<a href=\"{}\" rel=\"noopener noreferrer\" target=\"_blank\">{}</a>'.format(url, name)\n",
    "\n",
    "def generateDF():\n",
    "  dft = combineCSVs()\n",
    "  \n",
    "  dft = dft.filter([\"Abstract\", \"UT (Unique WOS ID)\"])\n",
    "  dft = dft.rename(columns={\"UT (Unique WOS ID)\": \"WOS\"})\n",
    "  dft[\"en\"] = dft.apply(\n",
    "      lambda x: isEnglish(x[\"Abstract\"]), axis=1)\n",
    "\n",
    "  #Adds a link to Web of Science\n",
    "  dft[\"Link\"] = dft.apply(\n",
    "      lambda x: make_clickable(\"https://www.webofscience.com/wos/woscc/full-record/WOS:000666451800001\" + x[\"WOS\"], \"link\"), axis=1)\n",
    "  return dft\n",
    "\n",
    "\n",
    "def render(df):\n",
    "    return HTML(df.to_html(render_links=True, escape=False))\n"
   ]
  },
  {
   "cell_type": "code",
   "execution_count": 4,
   "metadata": {},
   "outputs": [
    {
     "name": "stdout",
     "output_type": "stream",
     "text": [
      "read first\n",
      "read  2\n",
      "read  3\n",
      "read  4\n",
      "read  5\n",
      "read  6\n",
      "read  7\n",
      "read  8\n",
      "read  9\n",
      "read  10\n",
      "read  11\n",
      "read  12\n"
     ]
    }
   ],
   "source": [
    "\n",
    "create_new = True\n",
    "if create_new:\n",
    "    df = generateDF()\n",
    "    saveMaster(df.loc[df['en'] == True])\n",
    "df = pd.read_csv(r'master.csv')"
   ]
  },
  {
   "cell_type": "code",
   "execution_count": 14,
   "metadata": {},
   "outputs": [],
   "source": []
  }
 ],
 "metadata": {
  "kernelspec": {
   "display_name": "Python 3",
   "language": "python",
   "name": "python3"
  },
  "language_info": {
   "codemirror_mode": {
    "name": "ipython",
    "version": 3
   },
   "file_extension": ".py",
   "mimetype": "text/x-python",
   "name": "python",
   "nbconvert_exporter": "python",
   "pygments_lexer": "ipython3",
   "version": "3.8.5"
  },
  "orig_nbformat": 4,
  "vscode": {
   "interpreter": {
    "hash": "b5b849740b59898e829a2cf75c921207367acbba25f9d9377ed332832d177c09"
   }
  }
 },
 "nbformat": 4,
 "nbformat_minor": 2
}
