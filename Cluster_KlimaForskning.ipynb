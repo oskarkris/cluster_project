{
 "cells": [
  {
   "cell_type": "code",
   "execution_count": 3,
   "metadata": {},
   "outputs": [],
   "source": [
    "import pandas as pd\n",
    "import numpy as np\n",
    "from IPython.display import HTML\n",
    "#import langdetect\n",
    "\n",
    "from langdetect import detect, detect_langs"
   ]
  },
  {
   "attachments": {},
   "cell_type": "markdown",
   "metadata": {},
   "source": [
    "# Cleaning the dataset"
   ]
  },
  {
   "cell_type": "code",
   "execution_count": 34,
   "metadata": {},
   "outputs": [],
   "source": [
    "def combineCSVs():\n",
    "  dft = pd.read_csv('https://raw.githubusercontent.com/oskarkris/cluster_project/main/csvdata/savedrecs%20(1).csv')\n",
    "  for n in range(2,13):\n",
    "    df_temp = pd.read_csv(\"https://raw.githubusercontent.com/oskarkris/cluster_project/main/csvdata/savedrecs%20(\"+str(n)+\").csv\")\n",
    "    dft = pd.concat([dft, df_temp])\n",
    "  return dft\n",
    "\n",
    "def saveMaster(dataframe):\n",
    "  dataframe.to_csv(\n",
    "      r'csvdata\\master.csv', index=False)\n",
    "\n",
    "def isEnglish(language):\n",
    "    try:\n",
    "        detected = detect_langs(language)\n",
    "        lang = detected[0].lang\n",
    "        prob = detected[0].prob\n",
    "        if lang == \"en\" and prob > 0.95:\n",
    "            return True\n",
    "        else:\n",
    "            return False\n",
    "    except:\n",
    "        return False\n",
    "\n",
    "\n",
    "def strip(dataframe, columns):\n",
    "  dft = dataframe.filter(columns)\n",
    "  dft = dft.rename(columns={\"UT (Unique WOS ID)\": \"WOS\"})\n",
    "  return dft\n",
    "\n",
    "def generateDF():\n",
    "  dft = combineCSVs()\n",
    "  #saveMaster(dft)\n",
    "  dft = strip(dft, columns=[\"Abstract\", \"UT (Unique WOS ID)\"])\n",
    "  addColumns(dft)\n",
    "\n",
    "  return dft\n",
    "\n",
    "def addColumns(dataframe):\n",
    "  #True if abstract is written in english, else False\n",
    "  dataframe[\"en\"] = dataframe.apply(\n",
    "      lambda x: isEnglish(x[\"Abstract\"]), axis=1)\n",
    "  \n",
    "  #Adds a link to Web of Science\n",
    "\n",
    "  return dataframe\n"
   ]
  },
  {
   "cell_type": "code",
   "execution_count": 35,
   "metadata": {},
   "outputs": [
    {
     "data": {
      "text/html": [
       "<div>\n",
       "<style scoped>\n",
       "    .dataframe tbody tr th:only-of-type {\n",
       "        vertical-align: middle;\n",
       "    }\n",
       "\n",
       "    .dataframe tbody tr th {\n",
       "        vertical-align: top;\n",
       "    }\n",
       "\n",
       "    .dataframe thead th {\n",
       "        text-align: right;\n",
       "    }\n",
       "</style>\n",
       "<table border=\"1\" class=\"dataframe\">\n",
       "  <thead>\n",
       "    <tr style=\"text-align: right;\">\n",
       "      <th></th>\n",
       "      <th>Abstract</th>\n",
       "      <th>WOS</th>\n",
       "      <th>en</th>\n",
       "    </tr>\n",
       "  </thead>\n",
       "  <tbody>\n",
       "    <tr>\n",
       "      <th>0</th>\n",
       "      <td>Climate change adaptation is one of the main s...</td>\n",
       "      <td>WOS:000666451800001</td>\n",
       "      <td>True</td>\n",
       "    </tr>\n",
       "    <tr>\n",
       "      <th>1</th>\n",
       "      <td>The absence of clear signals from the Norwegia...</td>\n",
       "      <td>WOS:000320956800008</td>\n",
       "      <td>True</td>\n",
       "    </tr>\n",
       "    <tr>\n",
       "      <th>2</th>\n",
       "      <td>Building a climate-ready adaptation society is...</td>\n",
       "      <td>WOS:000417078200110</td>\n",
       "      <td>True</td>\n",
       "    </tr>\n",
       "    <tr>\n",
       "      <th>3</th>\n",
       "      <td>Climate change adaptation frameworks often emp...</td>\n",
       "      <td>WOS:000345061100013</td>\n",
       "      <td>True</td>\n",
       "    </tr>\n",
       "    <tr>\n",
       "      <th>4</th>\n",
       "      <td>The Intergovernmental Panel on Climate Change ...</td>\n",
       "      <td>WOS:000338711600014</td>\n",
       "      <td>True</td>\n",
       "    </tr>\n",
       "  </tbody>\n",
       "</table>\n",
       "</div>"
      ],
      "text/plain": [
       "                                            Abstract                  WOS  \\\n",
       "0  Climate change adaptation is one of the main s...  WOS:000666451800001   \n",
       "1  The absence of clear signals from the Norwegia...  WOS:000320956800008   \n",
       "2  Building a climate-ready adaptation society is...  WOS:000417078200110   \n",
       "3  Climate change adaptation frameworks often emp...  WOS:000345061100013   \n",
       "4  The Intergovernmental Panel on Climate Change ...  WOS:000338711600014   \n",
       "\n",
       "     en  \n",
       "0  True  \n",
       "1  True  \n",
       "2  True  \n",
       "3  True  \n",
       "4  True  "
      ]
     },
     "execution_count": 35,
     "metadata": {},
     "output_type": "execute_result"
    }
   ],
   "source": [
    "df = generateDF()\n",
    "\n",
    "\n",
    "\n"
   ]
  },
  {
   "cell_type": "code",
   "execution_count": null,
   "metadata": {},
   "outputs": [],
   "source": [
    "#Takes a dataframe and a column name\n",
    "#Returns a list of ids where that column has no information\n",
    "def locateMissingVals(dataframe, col):\n",
    "    empty = []\n",
    "    types = {}\n",
    "    counter = 0\n",
    "    xc = 0\n",
    "    for i in df[col]:      \n",
    "        if type(i) == float:\n",
    "            \n",
    "            print(dataframe.iloc[xc][\"UT (Unique WOS ID)\"])\n",
    "            counter += 1\n",
    "        xc += 1\n",
    "    print(counter)\n",
    "    return empty\n",
    "\n",
    "\n",
    "print(locateMissingVals(df, \"Abstract\"))\n",
    "\n"
   ]
  },
  {
   "cell_type": "code",
   "execution_count": 48,
   "metadata": {},
   "outputs": [
    {
     "ename": "NameError",
     "evalue": "name 'HTML' is not defined",
     "output_type": "error",
     "traceback": [
      "\u001b[1;31m---------------------------------------------------------------------------\u001b[0m",
      "\u001b[1;31mNameError\u001b[0m                                 Traceback (most recent call last)",
      "\u001b[1;32mc:\\Users\\anton\\Documents\\UiB\\Vit.ass\\cluster_project\\Cluster_KlimaForskning.ipynb Cell 6\u001b[0m in \u001b[0;36m<module>\u001b[1;34m\u001b[0m\n\u001b[0;32m      <a href='vscode-notebook-cell:/c%3A/Users/anton/Documents/UiB/Vit.ass/cluster_project/Cluster_KlimaForskning.ipynb#X11sZmlsZQ%3D%3D?line=3'>4</a>\u001b[0m df[\u001b[39m\"\u001b[39m\u001b[39mLink\u001b[39m\u001b[39m\"\u001b[39m] \u001b[39m=\u001b[39m df\u001b[39m.\u001b[39mapply(\n\u001b[0;32m      <a href='vscode-notebook-cell:/c%3A/Users/anton/Documents/UiB/Vit.ass/cluster_project/Cluster_KlimaForskning.ipynb#X11sZmlsZQ%3D%3D?line=4'>5</a>\u001b[0m     \u001b[39mlambda\u001b[39;00m x: make_clickable(\u001b[39m\"\u001b[39m\u001b[39mhttps://www.webofscience.com/wos/woscc/full-record/WOS:000666451800001\u001b[39m\u001b[39m\"\u001b[39m \u001b[39m+\u001b[39m x[\u001b[39m\"\u001b[39m\u001b[39mWOS\u001b[39m\u001b[39m\"\u001b[39m], \u001b[39m\"\u001b[39m\u001b[39mlink\u001b[39m\u001b[39m\"\u001b[39m), axis\u001b[39m=\u001b[39m\u001b[39m1\u001b[39m)\n\u001b[0;32m      <a href='vscode-notebook-cell:/c%3A/Users/anton/Documents/UiB/Vit.ass/cluster_project/Cluster_KlimaForskning.ipynb#X11sZmlsZQ%3D%3D?line=6'>7</a>\u001b[0m df\u001b[39m.\u001b[39mhead()\n\u001b[1;32m----> <a href='vscode-notebook-cell:/c%3A/Users/anton/Documents/UiB/Vit.ass/cluster_project/Cluster_KlimaForskning.ipynb#X11sZmlsZQ%3D%3D?line=7'>8</a>\u001b[0m HTML(df\u001b[39m.\u001b[39mto_html(render_links\u001b[39m=\u001b[39m\u001b[39mTrue\u001b[39;00m, escape\u001b[39m=\u001b[39m\u001b[39mFalse\u001b[39;00m))\n",
      "\u001b[1;31mNameError\u001b[0m: name 'HTML' is not defined"
     ]
    }
   ],
   "source": [
    "def make_clickable(url, name):\n",
    "    return '<a href=\"{}\" rel=\"noopener noreferrer\" target=\"_blank\">{}</a>'.format(url, name)\n",
    "\n",
    "df[\"Link\"] = df.apply(\n",
    "    lambda x: make_clickable(\"https://www.webofscience.com/wos/woscc/full-record/WOS:000666451800001\" + x[\"WOS\"], \"link\"), axis=1)\n",
    "\n",
    "df.head()\n",
    "HTML(df.to_html(render_links=True, escape=False))\n"
   ]
  }
 ],
 "metadata": {
  "kernelspec": {
   "display_name": "Python 3",
   "language": "python",
   "name": "python3"
  },
  "language_info": {
   "codemirror_mode": {
    "name": "ipython",
    "version": 3
   },
   "file_extension": ".py",
   "mimetype": "text/x-python",
   "name": "python",
   "nbconvert_exporter": "python",
   "pygments_lexer": "ipython3",
   "version": "3.8.5"
  },
  "orig_nbformat": 4,
  "vscode": {
   "interpreter": {
    "hash": "4bab1fa137d3230bbc57bbc6e38cb1655d3fe9b1dae043a7ef8c1558f754bf92"
   }
  }
 },
 "nbformat": 4,
 "nbformat_minor": 2
}
