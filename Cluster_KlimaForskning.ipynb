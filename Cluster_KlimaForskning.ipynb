{
 "cells": [
  {
   "cell_type": "code",
   "execution_count": 1,
   "metadata": {},
   "outputs": [],
   "source": [
    "import pandas as pd\n",
    "import numpy as np\n",
    "#import langdetect"
   ]
  },
  {
   "cell_type": "code",
   "execution_count": 2,
   "metadata": {},
   "outputs": [],
   "source": [
    "df = pd.read_csv('https://raw.githubusercontent.com/oskarkris/cluster_project/main/csvdata/savedrecs%20(1).csv')\n",
    "for n in range(2,13):\n",
    "  df_temp = pd.read_csv(\"https://raw.githubusercontent.com/oskarkris/cluster_project/main/csvdata/savedrecs%20(\"+str(n)+\").csv\")\n",
    "  df = pd.concat([df, df_temp])"
   ]
  }
 ],
 "metadata": {
  "kernelspec": {
   "display_name": "Python 3",
   "language": "python",
   "name": "python3"
  },
  "language_info": {
   "codemirror_mode": {
    "name": "ipython",
    "version": 3
   },
   "file_extension": ".py",
   "mimetype": "text/x-python",
   "name": "python",
   "nbconvert_exporter": "python",
   "pygments_lexer": "ipython3",
   "version": "3.10.2"
  },
  "orig_nbformat": 4,
  "vscode": {
   "interpreter": {
    "hash": "4bab1fa137d3230bbc57bbc6e38cb1655d3fe9b1dae043a7ef8c1558f754bf92"
   }
  }
 },
 "nbformat": 4,
 "nbformat_minor": 2
}
