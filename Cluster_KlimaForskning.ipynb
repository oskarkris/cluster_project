{
 "cells": [
  {
   "cell_type": "code",
   "execution_count": 6,
   "metadata": {},
   "outputs": [
    {
     "name": "stdout",
     "output_type": "stream",
     "text": [
      "Requirement already satisfied: langdetect in c:\\users\\anton\\appdata\\local\\programs\\python\\python38\\lib\\site-packages (1.0.9)\n",
      "Requirement already satisfied: six in c:\\users\\anton\\appdata\\roaming\\python\\python38\\site-packages (from langdetect) (1.15.0)\n"
     ]
    }
   ],
   "source": [
    "import pandas as pd\n",
    "import numpy as np\n",
    "#import langdetect\n",
    "\n",
    "from langdetect import detect, detect_langs"
   ]
  },
  {
   "cell_type": "code",
   "execution_count": 7,
   "metadata": {},
   "outputs": [],
   "source": [
    "df = pd.read_csv('https://raw.githubusercontent.com/oskarkris/cluster_project/main/csvdata/savedrecs%20(1).csv')\n",
    "for n in range(2,13):\n",
    "  df_temp = pd.read_csv(\"https://raw.githubusercontent.com/oskarkris/cluster_project/main/csvdata/savedrecs%20(\"+str(n)+\").csv\")\n",
    "  df = pd.concat([df, df_temp])"
   ]
  },
  {
   "cell_type": "code",
   "execution_count": 12,
   "metadata": {},
   "outputs": [
    {
     "name": "stdout",
     "output_type": "stream",
     "text": [
      "en:0.7142823678918538\n",
      "es:0.999996220108037\n",
      "fr:0.8571408756425671\n",
      "es:0.9999961709686253\n",
      "en:0.7142820662242688\n",
      "es:0.8571392943217799\n",
      "en:0.8571382316797317\n",
      "es:0.5714261335980857\n"
     ]
    },
    {
     "ename": "LangDetectException",
     "evalue": "No features in text.",
     "output_type": "error",
     "traceback": [
      "\u001b[1;31m---------------------------------------------------------------------------\u001b[0m",
      "\u001b[1;31mLangDetectException\u001b[0m                       Traceback (most recent call last)",
      "\u001b[1;32mc:\\Users\\anton\\Documents\\UiB\\Vit.ass\\cluster_project\\Cluster_KlimaForskning.ipynb Cell 3\u001b[0m in \u001b[0;36m<module>\u001b[1;34m\u001b[0m\n\u001b[0;32m      <a href='vscode-notebook-cell:/c%3A/Users/anton/Documents/UiB/Vit.ass/cluster_project/Cluster_KlimaForskning.ipynb#W3sZmlsZQ%3D%3D?line=0'>1</a>\u001b[0m \u001b[39mfor\u001b[39;00m i \u001b[39min\u001b[39;00m df[\u001b[39m\"\u001b[39m\u001b[39mAbstract\u001b[39m\u001b[39m\"\u001b[39m]:\n\u001b[1;32m----> <a href='vscode-notebook-cell:/c%3A/Users/anton/Documents/UiB/Vit.ass/cluster_project/Cluster_KlimaForskning.ipynb#W3sZmlsZQ%3D%3D?line=1'>2</a>\u001b[0m     detected \u001b[39m=\u001b[39m detect_langs(i)\n\u001b[0;32m      <a href='vscode-notebook-cell:/c%3A/Users/anton/Documents/UiB/Vit.ass/cluster_project/Cluster_KlimaForskning.ipynb#W3sZmlsZQ%3D%3D?line=2'>3</a>\u001b[0m     lang \u001b[39m=\u001b[39m detected[\u001b[39m0\u001b[39m]\u001b[39m.\u001b[39mlang\n\u001b[0;32m      <a href='vscode-notebook-cell:/c%3A/Users/anton/Documents/UiB/Vit.ass/cluster_project/Cluster_KlimaForskning.ipynb#W3sZmlsZQ%3D%3D?line=3'>4</a>\u001b[0m     prob \u001b[39m=\u001b[39m detected[\u001b[39m0\u001b[39m]\u001b[39m.\u001b[39mprob\n",
      "File \u001b[1;32mc:\\Users\\anton\\AppData\\Local\\Programs\\Python\\Python38\\lib\\site-packages\\langdetect\\detector_factory.py:137\u001b[0m, in \u001b[0;36mdetect_langs\u001b[1;34m(text)\u001b[0m\n\u001b[0;32m    135\u001b[0m detector \u001b[39m=\u001b[39m _factory\u001b[39m.\u001b[39mcreate()\n\u001b[0;32m    136\u001b[0m detector\u001b[39m.\u001b[39mappend(text)\n\u001b[1;32m--> 137\u001b[0m \u001b[39mreturn\u001b[39;00m detector\u001b[39m.\u001b[39;49mget_probabilities()\n",
      "File \u001b[1;32mc:\\Users\\anton\\AppData\\Local\\Programs\\Python\\Python38\\lib\\site-packages\\langdetect\\detector.py:143\u001b[0m, in \u001b[0;36mDetector.get_probabilities\u001b[1;34m(self)\u001b[0m\n\u001b[0;32m    141\u001b[0m \u001b[39mdef\u001b[39;00m \u001b[39mget_probabilities\u001b[39m(\u001b[39mself\u001b[39m):\n\u001b[0;32m    142\u001b[0m     \u001b[39mif\u001b[39;00m \u001b[39mself\u001b[39m\u001b[39m.\u001b[39mlangprob \u001b[39mis\u001b[39;00m \u001b[39mNone\u001b[39;00m:\n\u001b[1;32m--> 143\u001b[0m         \u001b[39mself\u001b[39;49m\u001b[39m.\u001b[39;49m_detect_block()\n\u001b[0;32m    144\u001b[0m     \u001b[39mreturn\u001b[39;00m \u001b[39mself\u001b[39m\u001b[39m.\u001b[39m_sort_probability(\u001b[39mself\u001b[39m\u001b[39m.\u001b[39mlangprob)\n",
      "File \u001b[1;32mc:\\Users\\anton\\AppData\\Local\\Programs\\Python\\Python38\\lib\\site-packages\\langdetect\\detector.py:150\u001b[0m, in \u001b[0;36mDetector._detect_block\u001b[1;34m(self)\u001b[0m\n\u001b[0;32m    148\u001b[0m ngrams \u001b[39m=\u001b[39m \u001b[39mself\u001b[39m\u001b[39m.\u001b[39m_extract_ngrams()\n\u001b[0;32m    149\u001b[0m \u001b[39mif\u001b[39;00m \u001b[39mnot\u001b[39;00m ngrams:\n\u001b[1;32m--> 150\u001b[0m     \u001b[39mraise\u001b[39;00m LangDetectException(ErrorCode\u001b[39m.\u001b[39mCantDetectError, \u001b[39m'\u001b[39m\u001b[39mNo features in text.\u001b[39m\u001b[39m'\u001b[39m)\n\u001b[0;32m    152\u001b[0m \u001b[39mself\u001b[39m\u001b[39m.\u001b[39mlangprob \u001b[39m=\u001b[39m [\u001b[39m0.0\u001b[39m] \u001b[39m*\u001b[39m \u001b[39mlen\u001b[39m(\u001b[39mself\u001b[39m\u001b[39m.\u001b[39mlanglist)\n\u001b[0;32m    154\u001b[0m \u001b[39mself\u001b[39m\u001b[39m.\u001b[39mrandom\u001b[39m.\u001b[39mseed(\u001b[39mself\u001b[39m\u001b[39m.\u001b[39mseed)\n",
      "\u001b[1;31mLangDetectException\u001b[0m: No features in text."
     ]
    }
   ],
   "source": [
    "for i in df[\"Abstract\"]:\n",
    "    detected = detect_langs(i)\n",
    "    lang = detected[0].lang\n",
    "    prob = detected[0].prob\n",
    "    if lang == \"en\" and prob > 0.9:\n",
    "        continue\n",
    "    else:\n",
    "        print(detected[0])"
   ]
  }
 ],
 "metadata": {
  "kernelspec": {
   "display_name": "Python 3",
   "language": "python",
   "name": "python3"
  },
  "language_info": {
   "codemirror_mode": {
    "name": "ipython",
    "version": 3
   },
   "file_extension": ".py",
   "mimetype": "text/x-python",
   "name": "python",
   "nbconvert_exporter": "python",
   "pygments_lexer": "ipython3",
   "version": "3.8.5"
  },
  "orig_nbformat": 4,
  "vscode": {
   "interpreter": {
    "hash": "4bab1fa137d3230bbc57bbc6e38cb1655d3fe9b1dae043a7ef8c1558f754bf92"
   }
  }
 },
 "nbformat": 4,
 "nbformat_minor": 2
}
