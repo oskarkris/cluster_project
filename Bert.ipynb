{
 "cells": [
  {
   "cell_type": "code",
   "execution_count": 91,
   "metadata": {},
   "outputs": [],
   "source": [
    "#!pip install sentence-transformers\n",
    "#!pip install --upgrade numpy\n",
    "#!pip install pytorch\n",
    "import pandas as pd\n",
    "import numpy as np\n",
    "from sentence_transformers import SentenceTransformer\n"
   ]
  },
  {
   "cell_type": "code",
   "execution_count": 92,
   "metadata": {},
   "outputs": [],
   "source": [
    "df = pd.read_csv(r'master.csv')     \n",
    "model = SentenceTransformer('distilbert-base-nli-mean-tokens')\n",
    "\n",
    "\n"
   ]
  },
  {
   "cell_type": "code",
   "execution_count": 93,
   "metadata": {},
   "outputs": [],
   "source": [
    "def embed(data):\n",
    "        embeddings = model.encode(data, show_progress_bar= True)\n",
    "        np.save('embeddings.npy', embeddings)\n",
    "        return embeddings\n",
    "\n",
    "\n"
   ]
  },
  {
   "cell_type": "code",
   "execution_count": 101,
   "metadata": {},
   "outputs": [
    {
     "ename": "ModuleNotFoundError",
     "evalue": "No module named 'NLP_ClusterProject'",
     "output_type": "error",
     "traceback": [
      "\u001b[1;31m---------------------------------------------------------------------------\u001b[0m",
      "\u001b[1;31mModuleNotFoundError\u001b[0m                       Traceback (most recent call last)",
      "\u001b[1;32mc:\\Users\\oskar\\Documents\\GitHub\\cluster_project\\Bert.ipynb Cell 4\u001b[0m in \u001b[0;36m<cell line: 4>\u001b[1;34m()\u001b[0m\n\u001b[0;32m      <a href='vscode-notebook-cell:/c%3A/Users/oskar/Documents/GitHub/cluster_project/Bert.ipynb#X24sZmlsZQ%3D%3D?line=0'>1</a>\u001b[0m \u001b[39m#%pip install bertopic\u001b[39;00m\n\u001b[0;32m      <a href='vscode-notebook-cell:/c%3A/Users/oskar/Documents/GitHub/cluster_project/Bert.ipynb#X24sZmlsZQ%3D%3D?line=1'>2</a>\u001b[0m \u001b[39m#from autonotebook import tqdm as notebook_tqdm\u001b[39;00m\n\u001b[0;32m      <a href='vscode-notebook-cell:/c%3A/Users/oskar/Documents/GitHub/cluster_project/Bert.ipynb#X24sZmlsZQ%3D%3D?line=2'>3</a>\u001b[0m \u001b[39mfrom\u001b[39;00m \u001b[39mbertopic\u001b[39;00m \u001b[39mimport\u001b[39;00m BERTopic\n\u001b[1;32m----> <a href='vscode-notebook-cell:/c%3A/Users/oskar/Documents/GitHub/cluster_project/Bert.ipynb#X24sZmlsZQ%3D%3D?line=3'>4</a>\u001b[0m \u001b[39mfrom\u001b[39;00m \u001b[39mNLP_ClusterProject\u001b[39;00m\u001b[39m.\u001b[39;00m\u001b[39mipynb\u001b[39;00m \u001b[39mimport\u001b[39;00m nlp\n",
      "\u001b[1;31mModuleNotFoundError\u001b[0m: No module named 'NLP_ClusterProject'"
     ]
    }
   ],
   "source": [
    "#%pip install bertopic\n",
    "#from autonotebook import tqdm as notebook_tqdm\n",
    "from bertopic import BERTopic\n",
    "from NLP_ClusterProject.ipynb import nlp"
   ]
  },
  {
   "cell_type": "code",
   "execution_count": 95,
   "metadata": {},
   "outputs": [],
   "source": [
    "topic_model = BERTopic()\n",
    "\n"
   ]
  },
  {
   "cell_type": "code",
   "execution_count": 96,
   "metadata": {},
   "outputs": [],
   "source": [
    "topic, probs = topic_model.fit_transform(df['Clean_Abstract'][0:1000])"
   ]
  },
  {
   "cell_type": "code",
   "execution_count": 97,
   "metadata": {},
   "outputs": [
    {
     "data": {
      "text/html": [
       "<div>\n",
       "<style scoped>\n",
       "    .dataframe tbody tr th:only-of-type {\n",
       "        vertical-align: middle;\n",
       "    }\n",
       "\n",
       "    .dataframe tbody tr th {\n",
       "        vertical-align: top;\n",
       "    }\n",
       "\n",
       "    .dataframe thead th {\n",
       "        text-align: right;\n",
       "    }\n",
       "</style>\n",
       "<table border=\"1\" class=\"dataframe\">\n",
       "  <thead>\n",
       "    <tr style=\"text-align: right;\">\n",
       "      <th></th>\n",
       "      <th>Topic</th>\n",
       "      <th>Count</th>\n",
       "      <th>Name</th>\n",
       "    </tr>\n",
       "  </thead>\n",
       "  <tbody>\n",
       "    <tr>\n",
       "      <th>0</th>\n",
       "      <td>-1</td>\n",
       "      <td>358</td>\n",
       "      <td>-1_change_policy_the_this</td>\n",
       "    </tr>\n",
       "    <tr>\n",
       "      <th>1</th>\n",
       "      <td>0</td>\n",
       "      <td>208</td>\n",
       "      <td>0_farmer_change_strategy_study</td>\n",
       "    </tr>\n",
       "    <tr>\n",
       "      <th>2</th>\n",
       "      <td>1</td>\n",
       "      <td>68</td>\n",
       "      <td>1_water_change_the_measure</td>\n",
       "    </tr>\n",
       "    <tr>\n",
       "      <th>3</th>\n",
       "      <td>2</td>\n",
       "      <td>46</td>\n",
       "      <td>2_coastal_management_fishery_change</td>\n",
       "    </tr>\n",
       "    <tr>\n",
       "      <th>4</th>\n",
       "      <td>3</td>\n",
       "      <td>43</td>\n",
       "      <td>3_indigenous_knowledge_change_people</td>\n",
       "    </tr>\n",
       "    <tr>\n",
       "      <th>5</th>\n",
       "      <td>4</td>\n",
       "      <td>42</td>\n",
       "      <td>4_learning_social_stakeholder_process</td>\n",
       "    </tr>\n",
       "    <tr>\n",
       "      <th>6</th>\n",
       "      <td>5</td>\n",
       "      <td>40</td>\n",
       "      <td>5_planning_local_plan_tool</td>\n",
       "    </tr>\n",
       "    <tr>\n",
       "      <th>7</th>\n",
       "      <td>6</td>\n",
       "      <td>36</td>\n",
       "      <td>6_disaster_risk_resilience_reduction</td>\n",
       "    </tr>\n",
       "    <tr>\n",
       "      <th>8</th>\n",
       "      <td>7</td>\n",
       "      <td>27</td>\n",
       "      <td>7_health_public_change_related</td>\n",
       "    </tr>\n",
       "    <tr>\n",
       "      <th>9</th>\n",
       "      <td>8</td>\n",
       "      <td>26</td>\n",
       "      <td>8_actor_governance_level_private</td>\n",
       "    </tr>\n",
       "    <tr>\n",
       "      <th>10</th>\n",
       "      <td>9</td>\n",
       "      <td>22</td>\n",
       "      <td>9_gender_woman_female_male</td>\n",
       "    </tr>\n",
       "    <tr>\n",
       "      <th>11</th>\n",
       "      <td>10</td>\n",
       "      <td>20</td>\n",
       "      <td>10_urban_city_green_infrastructure</td>\n",
       "    </tr>\n",
       "    <tr>\n",
       "      <th>12</th>\n",
       "      <td>11</td>\n",
       "      <td>20</td>\n",
       "      <td>11_policy_national_bangladesh_development</td>\n",
       "    </tr>\n",
       "    <tr>\n",
       "      <th>13</th>\n",
       "      <td>12</td>\n",
       "      <td>18</td>\n",
       "      <td>12_planning_change_region_urban</td>\n",
       "    </tr>\n",
       "    <tr>\n",
       "      <th>14</th>\n",
       "      <td>13</td>\n",
       "      <td>15</td>\n",
       "      <td>13_project_development_change_the</td>\n",
       "    </tr>\n",
       "    <tr>\n",
       "      <th>15</th>\n",
       "      <td>14</td>\n",
       "      <td>11</td>\n",
       "      <td>14_forest_owner_management_change</td>\n",
       "    </tr>\n",
       "  </tbody>\n",
       "</table>\n",
       "</div>"
      ],
      "text/plain": [
       "    Topic  Count                                       Name\n",
       "0      -1    358                  -1_change_policy_the_this\n",
       "1       0    208             0_farmer_change_strategy_study\n",
       "2       1     68                 1_water_change_the_measure\n",
       "3       2     46        2_coastal_management_fishery_change\n",
       "4       3     43       3_indigenous_knowledge_change_people\n",
       "5       4     42      4_learning_social_stakeholder_process\n",
       "6       5     40                 5_planning_local_plan_tool\n",
       "7       6     36       6_disaster_risk_resilience_reduction\n",
       "8       7     27             7_health_public_change_related\n",
       "9       8     26           8_actor_governance_level_private\n",
       "10      9     22                 9_gender_woman_female_male\n",
       "11     10     20         10_urban_city_green_infrastructure\n",
       "12     11     20  11_policy_national_bangladesh_development\n",
       "13     12     18            12_planning_change_region_urban\n",
       "14     13     15          13_project_development_change_the\n",
       "15     14     11          14_forest_owner_management_change"
      ]
     },
     "execution_count": 97,
     "metadata": {},
     "output_type": "execute_result"
    }
   ],
   "source": [
    "topic_model.get_topic_info()"
   ]
  },
  {
   "cell_type": "code",
   "execution_count": 100,
   "metadata": {},
   "outputs": [
    {
     "data": {
      "text/plain": [
       "[('farmer', 0.059292672856944395),\n",
       " ('change', 0.0399896036923059),\n",
       " ('strategy', 0.028525272922743684),\n",
       " ('study', 0.0264501450468601),\n",
       " ('the', 0.02549822558374236),\n",
       " ('farm', 0.02473027700832158),\n",
       " ('agricultural', 0.0238201021654838),\n",
       " ('household', 0.023744280950523583),\n",
       " ('crop', 0.020905233417610393),\n",
       " ('production', 0.01789276390086794)]"
      ]
     },
     "execution_count": 100,
     "metadata": {},
     "output_type": "execute_result"
    }
   ],
   "source": [
    "topic_model.get_topic(0)"
   ]
  },
  {
   "cell_type": "code",
   "execution_count": 99,
   "metadata": {},
   "outputs": [
    {
     "data": {
      "text/plain": [
       "'climate change one main strategy address global change the least developed country small island state lack financial resource adapt change vulnerable nation change although would economical adapt change compared anticipated damage demand capital estimated range hundred billion the crucial question manage investment adapt change globally this study provides overview existing international provision finance it includes provision international financial institution united nation agency bilateral multilateral channel private sector it also explores private sector finance attracted invest change'"
      ]
     },
     "execution_count": 99,
     "metadata": {},
     "output_type": "execute_result"
    }
   ],
   "source": [
    "df['Clean_Abstract'][0]"
   ]
  }
 ],
 "metadata": {
  "kernelspec": {
   "display_name": "Python 3",
   "language": "python",
   "name": "python3"
  },
  "language_info": {
   "codemirror_mode": {
    "name": "ipython",
    "version": 3
   },
   "file_extension": ".py",
   "mimetype": "text/x-python",
   "name": "python",
   "nbconvert_exporter": "python",
   "pygments_lexer": "ipython3",
   "version": "3.10.2"
  },
  "orig_nbformat": 4
 },
 "nbformat": 4,
 "nbformat_minor": 2
}
