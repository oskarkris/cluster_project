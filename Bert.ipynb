{
 "cells": [
  {
   "cell_type": "code",
   "execution_count": 3,
   "metadata": {},
   "outputs": [],
   "source": [
    "#!pip install sentence-transformers\n",
    "#!pip install --upgrade numpy\n",
    "#!pip install pytorch\n",
    "import pandas as pd\n",
    "import numpy as np\n",
    "from sentence_transformers import SentenceTransformer\n"
   ]
  },
  {
   "cell_type": "code",
   "execution_count": 4,
   "metadata": {},
   "outputs": [],
   "source": [
    "df = pd.read_csv(r'master0.csv')     \n",
    "model = SentenceTransformer('distilbert-base-nli-mean-tokens')\n",
    "\n",
    "\n"
   ]
  },
  {
   "cell_type": "code",
   "execution_count": 132,
   "metadata": {},
   "outputs": [
    {
     "name": "stderr",
     "output_type": "stream",
     "text": [
      "Batches: 100%|██████████| 1/1 [00:00<00:00,  1.26it/s]\n",
      "C:\\Users\\oskar\\AppData\\Local\\Temp\\ipykernel_17560\\4256651119.py:5: SettingWithCopyWarning: \n",
      "A value is trying to be set on a copy of a slice from a DataFrame\n",
      "\n",
      "See the caveats in the documentation: https://pandas.pydata.org/pandas-docs/stable/user_guide/indexing.html#returning-a-view-versus-a-copy\n",
      "  df['Embedding'][y] = x\n"
     ]
    }
   ],
   "source": [
    "df = pd.read_csv('Master.csv')\n",
    "\n",
    "embeddings = model.encode(df['Abstract'][0:5], show_progress_bar= True)\n",
    "embeddings = embeddings.tolist()\n",
    "\n",
    "df['Embedding'] = ''\n",
    "for x,y in zip(embeddings, range(0,(len(df['Abstract'])))):\n",
    "    df['Embedding'][y] = x \n",
    "\n"
   ]
  },
  {
   "cell_type": "code",
   "execution_count": 71,
   "metadata": {},
   "outputs": [],
   "source": [
    "#split into two dataframes as its too large\n",
    "dfs = np.array_split(df, 2)"
   ]
  },
  {
   "cell_type": "code",
   "execution_count": 85,
   "metadata": {},
   "outputs": [],
   "source": [
    "#write to files\n",
    "dfs[0].to_csv(\n",
    "        r'master0.csv', index=False)\n",
    "dfs[1].to_csv(\n",
    "        r'master1.csv', index=False)"
   ]
  },
  {
   "cell_type": "code",
   "execution_count": 51,
   "metadata": {},
   "outputs": [],
   "source": [
    "df1= pd.read_csv(r'master0.csv')\n",
    "df2= pd.read_csv(r'master1.csv')\n",
    "df = [df1,df2]\n",
    "df = pd.concat(df, ignore_index=True)\n"
   ]
  },
  {
   "cell_type": "code",
   "execution_count": 178,
   "metadata": {},
   "outputs": [
    {
     "name": "stderr",
     "output_type": "stream",
     "text": [
      "Batches: 100%|██████████| 367/367 [30:07<00:00,  4.92s/it]\n"
     ]
    }
   ],
   "source": [
    "df = pd.read_csv('master.csv')\n",
    "\n",
    "embeddings = model.encode(df['Abstract'], show_progress_bar= True)\n",
    "np.save('embeddings.npy', embeddings)\n",
    "#embeddings = embeddings.tolist()\n",
    "\n",
    "#df['Embedding'] = ''\n",
    "#for x,y in zip(embeddings, range(0,(len(df['Abstract'])))):\n",
    "#    df['Embedding'][y] = x \n",
    "\n",
    "#np.save('embeddings.npy', embeddings)\n",
    "#embedding = np.load('embeddings.npy')\n",
    "\n",
    "#df.to_csv(\n",
    "#        r'master.csv', index=False)\n",
    "\n",
    "\n",
    "#df.to_csv(r\"sdalb.csv\")"
   ]
  },
  {
   "cell_type": "code",
   "execution_count": 177,
   "metadata": {},
   "outputs": [
    {
     "data": {
      "text/plain": [
       "pandas.core.series.Series"
      ]
     },
     "execution_count": 177,
     "metadata": {},
     "output_type": "execute_result"
    }
   ],
   "source": [
    "type(df['Embedding'][0])"
   ]
  },
  {
   "cell_type": "code",
   "execution_count": 159,
   "metadata": {},
   "outputs": [],
   "source": [
    "embedding = embeddings\n",
    "\n",
    "np.save('embeddings.npy', embedding)\n",
    "\n",
    "test = np.load('embeddings.npy')\n"
   ]
  },
  {
   "cell_type": "code",
   "execution_count": 168,
   "metadata": {},
   "outputs": [],
   "source": [
    "test = test.tolist()"
   ]
  },
  {
   "cell_type": "code",
   "execution_count": 35,
   "metadata": {},
   "outputs": [
    {
     "ename": "UFuncTypeError",
     "evalue": "ufunc 'multiply' did not contain a loop with signature matching types (dtype('<U12480'), dtype('<U12480')) -> None",
     "output_type": "error",
     "traceback": [
      "\u001b[1;31m---------------------------------------------------------------------------\u001b[0m",
      "\u001b[1;31mUFuncTypeError\u001b[0m                            Traceback (most recent call last)",
      "\u001b[1;32mc:\\Users\\oskar\\Documents\\GitHub\\cluster_project\\Bert.ipynb Cell 9\u001b[0m in \u001b[0;36m<cell line: 18>\u001b[1;34m()\u001b[0m\n\u001b[0;32m     <a href='vscode-notebook-cell:/c%3A/Users/oskar/Documents/GitHub/cluster_project/Bert.ipynb#X12sZmlsZQ%3D%3D?line=12'>13</a>\u001b[0m     \u001b[39m#data['cluster'] = pd.Series(assigned_clusters, index=data.index)\u001b[39;00m\n\u001b[0;32m     <a href='vscode-notebook-cell:/c%3A/Users/oskar/Documents/GitHub/cluster_project/Bert.ipynb#X12sZmlsZQ%3D%3D?line=13'>14</a>\u001b[0m     \u001b[39m#data['centroid'] = data['cluster'].apply(lambda x: kclusterer.means()[x])\u001b[39;00m\n\u001b[0;32m     <a href='vscode-notebook-cell:/c%3A/Users/oskar/Documents/GitHub/cluster_project/Bert.ipynb#X12sZmlsZQ%3D%3D?line=15'>16</a>\u001b[0m     \u001b[39mreturn\u001b[39;00m data \u001b[39m#assigned_clusters\u001b[39;00m\n\u001b[1;32m---> <a href='vscode-notebook-cell:/c%3A/Users/oskar/Documents/GitHub/cluster_project/Bert.ipynb#X12sZmlsZQ%3D%3D?line=17'>18</a>\u001b[0m clustering_question(df)\n",
      "\u001b[1;32mc:\\Users\\oskar\\Documents\\GitHub\\cluster_project\\Bert.ipynb Cell 9\u001b[0m in \u001b[0;36mclustering_question\u001b[1;34m(data, NUM_CLUSTERS)\u001b[0m\n\u001b[0;32m      <a href='vscode-notebook-cell:/c%3A/Users/oskar/Documents/GitHub/cluster_project/Bert.ipynb#X12sZmlsZQ%3D%3D?line=4'>5</a>\u001b[0m X \u001b[39m=\u001b[39m np\u001b[39m.\u001b[39marray(data[\u001b[39m'\u001b[39m\u001b[39mEmbedding\u001b[39m\u001b[39m'\u001b[39m]\u001b[39m.\u001b[39mtolist())\n\u001b[0;32m      <a href='vscode-notebook-cell:/c%3A/Users/oskar/Documents/GitHub/cluster_project/Bert.ipynb#X12sZmlsZQ%3D%3D?line=6'>7</a>\u001b[0m kclusterer \u001b[39m=\u001b[39m KMeansClusterer(\n\u001b[0;32m      <a href='vscode-notebook-cell:/c%3A/Users/oskar/Documents/GitHub/cluster_project/Bert.ipynb#X12sZmlsZQ%3D%3D?line=7'>8</a>\u001b[0m     NUM_CLUSTERS, distance\u001b[39m=\u001b[39mnltk\u001b[39m.\u001b[39mcluster\u001b[39m.\u001b[39mutil\u001b[39m.\u001b[39mcosine_distance,\n\u001b[0;32m      <a href='vscode-notebook-cell:/c%3A/Users/oskar/Documents/GitHub/cluster_project/Bert.ipynb#X12sZmlsZQ%3D%3D?line=8'>9</a>\u001b[0m     repeats\u001b[39m=\u001b[39m\u001b[39m25\u001b[39m,avoid_empty_clusters\u001b[39m=\u001b[39m\u001b[39mTrue\u001b[39;00m)\n\u001b[1;32m---> <a href='vscode-notebook-cell:/c%3A/Users/oskar/Documents/GitHub/cluster_project/Bert.ipynb#X12sZmlsZQ%3D%3D?line=10'>11</a>\u001b[0m assigned_clusters \u001b[39m=\u001b[39m kclusterer\u001b[39m.\u001b[39;49mcluster(X, assign_clusters\u001b[39m=\u001b[39;49m\u001b[39mTrue\u001b[39;49;00m)\n\u001b[0;32m     <a href='vscode-notebook-cell:/c%3A/Users/oskar/Documents/GitHub/cluster_project/Bert.ipynb#X12sZmlsZQ%3D%3D?line=12'>13</a>\u001b[0m \u001b[39m#data['cluster'] = pd.Series(assigned_clusters, index=data.index)\u001b[39;00m\n\u001b[0;32m     <a href='vscode-notebook-cell:/c%3A/Users/oskar/Documents/GitHub/cluster_project/Bert.ipynb#X12sZmlsZQ%3D%3D?line=13'>14</a>\u001b[0m \u001b[39m#data['centroid'] = data['cluster'].apply(lambda x: kclusterer.means()[x])\u001b[39;00m\n\u001b[0;32m     <a href='vscode-notebook-cell:/c%3A/Users/oskar/Documents/GitHub/cluster_project/Bert.ipynb#X12sZmlsZQ%3D%3D?line=15'>16</a>\u001b[0m \u001b[39mreturn\u001b[39;00m data\n",
      "File \u001b[1;32mc:\\Users\\oskar\\AppData\\Local\\Programs\\Python\\Python310\\lib\\site-packages\\nltk\\cluster\\util.py:59\u001b[0m, in \u001b[0;36mVectorSpaceClusterer.cluster\u001b[1;34m(self, vectors, assign_clusters, trace)\u001b[0m\n\u001b[0;32m     56\u001b[0m     \u001b[39mself\u001b[39m\u001b[39m.\u001b[39m_Tt \u001b[39m=\u001b[39m numpy\u001b[39m.\u001b[39mtranspose(T)\n\u001b[0;32m     58\u001b[0m \u001b[39m# call abstract method to cluster the vectors\u001b[39;00m\n\u001b[1;32m---> 59\u001b[0m \u001b[39mself\u001b[39;49m\u001b[39m.\u001b[39;49mcluster_vectorspace(vectors, trace)\n\u001b[0;32m     61\u001b[0m \u001b[39m# assign the vectors to clusters\u001b[39;00m\n\u001b[0;32m     62\u001b[0m \u001b[39mif\u001b[39;00m assign_clusters:\n",
      "File \u001b[1;32mc:\\Users\\oskar\\AppData\\Local\\Programs\\Python\\Python310\\lib\\site-packages\\nltk\\cluster\\kmeans.py:91\u001b[0m, in \u001b[0;36mKMeansClusterer.cluster_vectorspace\u001b[1;34m(self, vectors, trace)\u001b[0m\n\u001b[0;32m     89\u001b[0m     \u001b[39mif\u001b[39;00m \u001b[39mnot\u001b[39;00m \u001b[39mself\u001b[39m\u001b[39m.\u001b[39m_means \u001b[39mor\u001b[39;00m trial \u001b[39m>\u001b[39m \u001b[39m1\u001b[39m:\n\u001b[0;32m     90\u001b[0m         \u001b[39mself\u001b[39m\u001b[39m.\u001b[39m_means \u001b[39m=\u001b[39m \u001b[39mself\u001b[39m\u001b[39m.\u001b[39m_rng\u001b[39m.\u001b[39msample(\u001b[39mlist\u001b[39m(vectors), \u001b[39mself\u001b[39m\u001b[39m.\u001b[39m_num_means)\n\u001b[1;32m---> 91\u001b[0m     \u001b[39mself\u001b[39;49m\u001b[39m.\u001b[39;49m_cluster_vectorspace(vectors, trace)\n\u001b[0;32m     92\u001b[0m     meanss\u001b[39m.\u001b[39mappend(\u001b[39mself\u001b[39m\u001b[39m.\u001b[39m_means)\n\u001b[0;32m     94\u001b[0m \u001b[39mif\u001b[39;00m \u001b[39mlen\u001b[39m(meanss) \u001b[39m>\u001b[39m \u001b[39m1\u001b[39m:\n\u001b[0;32m     95\u001b[0m     \u001b[39m# sort the means first (so that different cluster numbering won't\u001b[39;00m\n\u001b[0;32m     96\u001b[0m     \u001b[39m# effect the distance comparison)\u001b[39;00m\n",
      "File \u001b[1;32mc:\\Users\\oskar\\AppData\\Local\\Programs\\Python\\Python310\\lib\\site-packages\\nltk\\cluster\\kmeans.py:122\u001b[0m, in \u001b[0;36mKMeansClusterer._cluster_vectorspace\u001b[1;34m(self, vectors, trace)\u001b[0m\n\u001b[0;32m    120\u001b[0m clusters \u001b[39m=\u001b[39m [[] \u001b[39mfor\u001b[39;00m m \u001b[39min\u001b[39;00m \u001b[39mrange\u001b[39m(\u001b[39mself\u001b[39m\u001b[39m.\u001b[39m_num_means)]\n\u001b[0;32m    121\u001b[0m \u001b[39mfor\u001b[39;00m vector \u001b[39min\u001b[39;00m vectors:\n\u001b[1;32m--> 122\u001b[0m     index \u001b[39m=\u001b[39m \u001b[39mself\u001b[39;49m\u001b[39m.\u001b[39;49mclassify_vectorspace(vector)\n\u001b[0;32m    123\u001b[0m     clusters[index]\u001b[39m.\u001b[39mappend(vector)\n\u001b[0;32m    125\u001b[0m \u001b[39mif\u001b[39;00m trace:\n",
      "File \u001b[1;32mc:\\Users\\oskar\\AppData\\Local\\Programs\\Python\\Python310\\lib\\site-packages\\nltk\\cluster\\kmeans.py:147\u001b[0m, in \u001b[0;36mKMeansClusterer.classify_vectorspace\u001b[1;34m(self, vector)\u001b[0m\n\u001b[0;32m    145\u001b[0m \u001b[39mfor\u001b[39;00m index \u001b[39min\u001b[39;00m \u001b[39mrange\u001b[39m(\u001b[39mlen\u001b[39m(\u001b[39mself\u001b[39m\u001b[39m.\u001b[39m_means)):\n\u001b[0;32m    146\u001b[0m     mean \u001b[39m=\u001b[39m \u001b[39mself\u001b[39m\u001b[39m.\u001b[39m_means[index]\n\u001b[1;32m--> 147\u001b[0m     dist \u001b[39m=\u001b[39m \u001b[39mself\u001b[39;49m\u001b[39m.\u001b[39;49m_distance(vector, mean)\n\u001b[0;32m    148\u001b[0m     \u001b[39mif\u001b[39;00m best_distance \u001b[39mis\u001b[39;00m \u001b[39mNone\u001b[39;00m \u001b[39mor\u001b[39;00m dist \u001b[39m<\u001b[39m best_distance:\n\u001b[0;32m    149\u001b[0m         best_index, best_distance \u001b[39m=\u001b[39m index, dist\n",
      "File \u001b[1;32mc:\\Users\\oskar\\AppData\\Local\\Programs\\Python\\Python310\\lib\\site-packages\\nltk\\cluster\\util.py:130\u001b[0m, in \u001b[0;36mcosine_distance\u001b[1;34m(u, v)\u001b[0m\n\u001b[0;32m    125\u001b[0m \u001b[39mdef\u001b[39;00m \u001b[39mcosine_distance\u001b[39m(u, v):\n\u001b[0;32m    126\u001b[0m     \u001b[39m\"\"\"\u001b[39;00m\n\u001b[0;32m    127\u001b[0m \u001b[39m    Returns 1 minus the cosine of the angle between vectors v and u. This is\u001b[39;00m\n\u001b[0;32m    128\u001b[0m \u001b[39m    equal to ``1 - (u.v / |u||v|)``.\u001b[39;00m\n\u001b[0;32m    129\u001b[0m \u001b[39m    \"\"\"\u001b[39;00m\n\u001b[1;32m--> 130\u001b[0m     \u001b[39mreturn\u001b[39;00m \u001b[39m1\u001b[39m \u001b[39m-\u001b[39m (numpy\u001b[39m.\u001b[39;49mdot(u, v) \u001b[39m/\u001b[39m (sqrt(numpy\u001b[39m.\u001b[39mdot(u, u)) \u001b[39m*\u001b[39m sqrt(numpy\u001b[39m.\u001b[39mdot(v, v))))\n",
      "File \u001b[1;32m<__array_function__ internals>:200\u001b[0m, in \u001b[0;36mdot\u001b[1;34m(*args, **kwargs)\u001b[0m\n",
      "\u001b[1;31mUFuncTypeError\u001b[0m: ufunc 'multiply' did not contain a loop with signature matching types (dtype('<U12480'), dtype('<U12480')) -> None"
     ]
    }
   ],
   "source": [
    "def clustering_question(data,NUM_CLUSTERS = 15):\n",
    "\n",
    "    sentences = data['Abstract']\n",
    "\n",
    "    X = np.array(data['Embedding'].tolist())\n",
    "\n",
    "    kclusterer = KMeansClusterer(\n",
    "        NUM_CLUSTERS, distance=nltk.cluster.util.cosine_distance,\n",
    "        repeats=25,avoid_empty_clusters=True)\n",
    "\n",
    "    assigned_clusters = kclusterer.cluster(X, assign_clusters=True)\n",
    "\n",
    "    #data['cluster'] = pd.Series(assigned_clusters, index=data.index)\n",
    "    #data['centroid'] = data['cluster'].apply(lambda x: kclusterer.means()[x])\n",
    "\n",
    "    return data #assigned_clusters\n",
    "\n",
    "clustering_question(df)"
   ]
  },
  {
   "cell_type": "code",
   "execution_count": 36,
   "metadata": {},
   "outputs": [
    {
     "ename": "SyntaxError",
     "evalue": "'(' was never closed (596274763.py, line 1)",
     "output_type": "error",
     "traceback": [
      "\u001b[1;36m  Input \u001b[1;32mIn [36]\u001b[1;36m\u001b[0m\n\u001b[1;33m    kclusterer = KMeansClusterer(\u001b[0m\n\u001b[1;37m                                ^\u001b[0m\n\u001b[1;31mSyntaxError\u001b[0m\u001b[1;31m:\u001b[0m '(' was never closed\n"
     ]
    }
   ],
   "source": [
    "kclusterer = KMeansClusterer(\n",
    "        NUM_CLUSTERS, distance=nltk.cluster.util.cosine_distance,\n",
    "        repeats=25,avoid_empty_clusters=Tru"
   ]
  },
  {
   "cell_type": "code",
   "execution_count": 39,
   "metadata": {},
   "outputs": [],
   "source": [
    "NUM_CLUSTERS = 15\n",
    "kclusterer = KMeansClusterer(\n",
    "        NUM_CLUSTERS, distance=nltk.cluster.util.cosine_distance,\n",
    "        repeats=25,avoid_empty_clusters=True)"
   ]
  },
  {
   "cell_type": "code",
   "execution_count": 47,
   "metadata": {},
   "outputs": [
    {
     "name": "stdout",
     "output_type": "stream",
     "text": [
      "<class 'pandas.core.series.Series'>\n",
      "<class 'numpy.float64'>\n"
     ]
    }
   ],
   "source": [
    "print(type(df['Embedding']))\n",
    "print(type(df['Embedding'][1]))\n"
   ]
  },
  {
   "cell_type": "code",
   "execution_count": 46,
   "metadata": {},
   "outputs": [],
   "source": [
    "df['Embedding'] = pd.to_numeric(df['Embedding'],errors = 'coerce')"
   ]
  },
  {
   "cell_type": "code",
   "execution_count": 62,
   "metadata": {},
   "outputs": [
    {
     "ename": "OptionError",
     "evalue": "No such keys(s): 'display.string_format'",
     "output_type": "error",
     "traceback": [
      "\u001b[1;31m---------------------------------------------------------------------------\u001b[0m",
      "\u001b[1;31mOptionError\u001b[0m                               Traceback (most recent call last)",
      "\u001b[1;32mc:\\Users\\oskar\\Documents\\GitHub\\cluster_project\\Bert.ipynb Cell 14\u001b[0m in \u001b[0;36m<cell line: 1>\u001b[1;34m()\u001b[0m\n\u001b[1;32m----> <a href='vscode-notebook-cell:/c%3A/Users/oskar/Documents/GitHub/cluster_project/Bert.ipynb#X16sZmlsZQ%3D%3D?line=0'>1</a>\u001b[0m pd\u001b[39m.\u001b[39;49mset_option(\u001b[39m'\u001b[39;49m\u001b[39mdisplay.string_format\u001b[39;49m\u001b[39m'\u001b[39;49m, \u001b[39mlambda\u001b[39;49;00m x: \u001b[39mf\u001b[39;49m\u001b[39m'\u001b[39;49m\u001b[39m{\u001b[39;49;00mx\u001b[39m:\u001b[39;49;00m\u001b[39m.10f\u001b[39;49m\u001b[39m}\u001b[39;49;00m\u001b[39m'\u001b[39;49m)\n",
      "File \u001b[1;32mc:\\Users\\oskar\\AppData\\Local\\Programs\\Python\\Python310\\lib\\site-packages\\pandas\\_config\\config.py:256\u001b[0m, in \u001b[0;36mCallableDynamicDoc.__call__\u001b[1;34m(self, *args, **kwds)\u001b[0m\n\u001b[0;32m    255\u001b[0m \u001b[39mdef\u001b[39;00m \u001b[39m__call__\u001b[39m(\u001b[39mself\u001b[39m, \u001b[39m*\u001b[39margs, \u001b[39m*\u001b[39m\u001b[39m*\u001b[39mkwds):\n\u001b[1;32m--> 256\u001b[0m     \u001b[39mreturn\u001b[39;00m \u001b[39mself\u001b[39m\u001b[39m.\u001b[39m\u001b[39m__func__\u001b[39m(\u001b[39m*\u001b[39margs, \u001b[39m*\u001b[39m\u001b[39m*\u001b[39mkwds)\n",
      "File \u001b[1;32mc:\\Users\\oskar\\AppData\\Local\\Programs\\Python\\Python310\\lib\\site-packages\\pandas\\_config\\config.py:149\u001b[0m, in \u001b[0;36m_set_option\u001b[1;34m(*args, **kwargs)\u001b[0m\n\u001b[0;32m    146\u001b[0m     \u001b[39mraise\u001b[39;00m \u001b[39mTypeError\u001b[39;00m(\u001b[39mf\u001b[39m\u001b[39m'\u001b[39m\u001b[39m_set_option() got an unexpected keyword argument \u001b[39m\u001b[39m\"\u001b[39m\u001b[39m{\u001b[39;00mkwarg\u001b[39m}\u001b[39;00m\u001b[39m\"\u001b[39m\u001b[39m'\u001b[39m)\n\u001b[0;32m    148\u001b[0m \u001b[39mfor\u001b[39;00m k, v \u001b[39min\u001b[39;00m \u001b[39mzip\u001b[39m(args[::\u001b[39m2\u001b[39m], args[\u001b[39m1\u001b[39m::\u001b[39m2\u001b[39m]):\n\u001b[1;32m--> 149\u001b[0m     key \u001b[39m=\u001b[39m _get_single_key(k, silent)\n\u001b[0;32m    151\u001b[0m     o \u001b[39m=\u001b[39m _get_registered_option(key)\n\u001b[0;32m    152\u001b[0m     \u001b[39mif\u001b[39;00m o \u001b[39mand\u001b[39;00m o\u001b[39m.\u001b[39mvalidator:\n",
      "File \u001b[1;32mc:\\Users\\oskar\\AppData\\Local\\Programs\\Python\\Python310\\lib\\site-packages\\pandas\\_config\\config.py:114\u001b[0m, in \u001b[0;36m_get_single_key\u001b[1;34m(pat, silent)\u001b[0m\n\u001b[0;32m    112\u001b[0m     \u001b[39mif\u001b[39;00m \u001b[39mnot\u001b[39;00m silent:\n\u001b[0;32m    113\u001b[0m         _warn_if_deprecated(pat)\n\u001b[1;32m--> 114\u001b[0m     \u001b[39mraise\u001b[39;00m OptionError(\u001b[39mf\u001b[39m\u001b[39m\"\u001b[39m\u001b[39mNo such keys(s): \u001b[39m\u001b[39m{\u001b[39;00m\u001b[39mrepr\u001b[39m(pat)\u001b[39m}\u001b[39;00m\u001b[39m\"\u001b[39m)\n\u001b[0;32m    115\u001b[0m \u001b[39mif\u001b[39;00m \u001b[39mlen\u001b[39m(keys) \u001b[39m>\u001b[39m \u001b[39m1\u001b[39m:\n\u001b[0;32m    116\u001b[0m     \u001b[39mraise\u001b[39;00m OptionError(\u001b[39m\"\u001b[39m\u001b[39mPattern matched multiple keys\u001b[39m\u001b[39m\"\u001b[39m)\n",
      "\u001b[1;31mOptionError\u001b[0m: No such keys(s): 'display.string_format'"
     ]
    }
   ],
   "source": []
  },
  {
   "cell_type": "code",
   "execution_count": 66,
   "metadata": {},
   "outputs": [
    {
     "ename": "ValueError",
     "evalue": "could not convert string to float: '[-6.04341269e-01 -3.84352773e-01  5.39671361e-01 -7.18052626e-01\\n -5.47539175e-01 -4.05601978e-01 -2.92825758e-01 -1.10647714e+00\\n  3.88958693e-01 -1.21477984e-01  1.20023477e+00  3.39339256e-01\\n -1.26013362e+00  6.47450268e-01  6.62060976e-02 -5.84870040e-01\\n -1.71622306e-01  3.79486084e-01 -5.13906658e-01 -4.56014514e-01\\n -1.77051760e-02 -3.55901197e-02  6.22463413e-03  8.78412485e-01\\n -3.59800085e-02 -1.89855352e-01 -3.16645324e-01 -3.59409362e-01\\n  4.91549462e-01  4.46036369e-01  2.74580508e-01  6.61258042e-01\\n -1.03830981e+00 -4.93150502e-02  1.42581448e-01 -2.65268832e-01\\n  2.96442002e-01 -3.69699448e-01  6.73071504e-01 -4.61198270e-01\\n -3.55622083e-01 -1.68507850e+00 -2.03492895e-01  1.30279267e+00\\n  5.22589907e-02 -4.02631834e-02  2.89943337e-01  2.87973732e-01\\n -2.55662382e-01 -4.23777729e-01 -4.42797318e-03 -5.03054142e-01\\n  3.40835750e-01  4.74684238e-02  4.32311714e-01 -2.55646169e-01\\n  6.22654259e-02 -1.39187314e-02  4.81390238e-01 -3.19934130e-01\\n -3.92044514e-01  7.55735397e-01 -3.88430476e-01 -7.01925516e-01\\n  3.62049341e-01 -5.67896187e-01 -7.49808073e-01  1.03307986e+00\\n -1.03007007e+00 -1.05952644e+00 -7.89054781e-02  1.72982290e-02\\n -1.06278881e-01 -4.59450111e-02 -3.48952502e-01 -1.13726234e+00\\n  2.55287856e-01 -3.58845681e-01  9.13324207e-02 -1.36033103e-01\\n  4.67035115e-01  6.46798372e-01 -1.23538040e-02  6.99181139e-01\\n  3.66897762e-01  9.30766284e-01  1.04476392e+00 -4.02230948e-01\\n  2.42526874e-01  2.60116458e-01  3.56449746e-04 -4.41386461e-01\\n  3.11044246e-01 -4.16004002e-01  4.26500142e-01  6.19231723e-03\\n  9.22059655e-01 -1.08250177e+00 -3.40694100e-01  5.65886676e-01\\n  4.50176239e-01  2.69003451e-01  9.21498299e-01  1.30953646e+00\\n  5.41473269e-01 -6.00362957e-01  5.13202190e-01 -1.65901259e-01\\n  2.22854316e-02 -3.64982098e-01  1.02350228e-01 -1.89563245e-01\\n -1.53500870e-01 -6.63890183e-01 -1.00465221e-02 -1.31592965e+00\\n -3.69073629e-01  2.02865705e-01  9.40210879e-01  2.70791590e-01\\n  6.93041459e-02 -5.91649652e-01  4.71724778e-01 -1.00832832e+00\\n -7.63235867e-01  2.65493214e-01 -5.80389917e-01  1.16699159e-01\\n -3.74473780e-01 -6.85160100e-01 -2.16294378e-01  8.33263218e-01\\n -5.90128005e-02 -5.07824838e-01 -1.16521999e-01 -1.43995032e-01\\n -3.32122982e-01  4.45746183e-01 -3.26160282e-01 -5.24708331e-01\\n -6.17793441e-01 -3.99083704e-01  1.27412462e+00 -5.88686645e-01\\n -6.18682146e-01 -8.13595533e-01 -1.63633776e+00 -8.88081074e-01\\n  3.39661181e-01 -7.52123177e-01  2.26113468e-01 -1.45993471e-01\\n  6.58838570e-01 -8.60132039e-01 -2.32066408e-01 -1.93420202e-01\\n  6.07486963e-01 -5.57324052e-01 -2.66309798e-01 -3.65011603e-01\\n -5.53736150e-01 -6.98678136e-01  3.97510469e-01 -9.94663313e-02\\n  1.08591330e+00 -1.06363237e+00  1.89798459e-01 -7.49430895e-01\\n -5.09529889e-01  4.77171481e-01 -5.43815494e-01  3.32035393e-01\\n  1.47730303e+00  5.96032515e-02  1.94510174e+00 -3.38383503e-02\\n  1.84307694e-01  4.54663754e-01 -1.04898840e-01  4.17720973e-01\\n -4.38647151e-01 -3.08175147e-01  5.41928172e-01  4.99161631e-01\\n -5.28919756e-01 -1.21770814e-01  4.46694553e-01  2.77791053e-01\\n  8.36047590e-01  4.69956040e-01 -2.50051588e-01 -2.40257367e-01\\n -5.90070844e-01  7.07173347e-01  3.11760664e-01 -5.47618508e-01\\n  2.43768185e-01  8.68667141e-02  2.47421056e-01 -5.21713793e-01\\n -7.60857522e-01 -1.54603469e+00 -1.98477566e-01 -3.83613914e-01\\n -2.70724408e-02 -8.17213356e-02  1.18421532e-01 -8.98433805e-01\\n  2.44592130e-02 -3.84321958e-01 -1.51238486e-01  1.03592324e+00\\n -3.61829758e-01 -5.91743827e-01 -6.39936998e-02 -9.84543622e-01\\n -2.51276553e-01  1.36392340e-01 -2.60280192e-01  9.49612081e-01\\n  8.44463229e-01 -5.76106012e-01 -2.81885952e-01  5.10233521e-01\\n  2.10879624e-01 -1.24561405e+00 -4.90337342e-01 -1.72188595e-01\\n  5.63419402e-01 -1.24472842e-01  2.33160228e-01  3.93042900e-02\\n -5.91891184e-02 -4.31610465e-01  7.13445172e-02 -5.61019480e-01\\n -9.00505662e-01  2.22044051e-01  6.39286518e-01 -9.97300565e-01\\n -5.65452814e-01  8.77530932e-01  9.60004181e-02  6.25809550e-01\\n  3.04640830e-01 -5.18671632e-01 -2.25775212e-01 -4.52644974e-01\\n -2.70012170e-01  5.90493441e-01 -1.41668737e+00 -5.56259453e-01\\n -7.12816417e-03 -7.52884924e-01  3.29501837e-01 -3.81358951e-01\\n  1.01749754e+00 -4.52277541e-01 -2.30643779e-01  2.20410705e-01\\n  1.27754137e-01 -2.45786518e-01 -2.47365445e-01 -3.86796027e-01\\n -6.72907948e-01  2.31577873e-01 -1.07460606e+00 -5.28174751e-02\\n -2.09854156e-01  3.09022754e-01  3.23584229e-01 -2.27945805e-01\\n  1.49612799e-01  4.34971720e-01 -3.28806072e-01 -6.97080016e-01\\n  7.84052551e-01  7.90416636e-03  5.81603706e-01  7.87841082e-01\\n  1.01512253e+00  5.96765578e-01 -1.26133636e-01 -7.20130026e-01\\n  2.54364699e-01  8.54648128e-02  1.20066905e+00 -1.61672205e-01\\n  3.97522151e-01 -4.37974870e-01  2.45135933e-01  4.04638052e-02\\n -2.98921138e-01  7.87649393e-01  2.40446612e-01 -1.66834816e-01\\n  6.70379102e-02  3.81958969e-02 -1.05343759e-03  4.21277046e-01\\n -1.38301849e-02 -8.82572770e-01  3.85402292e-01  4.76071298e-01\\n -4.13908511e-01 -5.40275812e-01  7.05158055e-01 -8.53803039e-01\\n  6.79751098e-01 -4.44886714e-01  1.13217509e+00 -8.60459507e-01\\n -2.66941693e-02  4.35503036e-01  2.17411369e-01  5.66685915e-01\\n -2.07883522e-01 -7.69098699e-01 -6.17933631e-01  5.73774017e-02\\n -4.18972790e-01 -1.83718309e-01 -3.70454341e-01  3.39401186e-01\\n  6.19756818e-01  1.48118353e+00  2.21772045e-01  8.65065217e-01\\n -4.48311031e-01  7.87309855e-02  1.94984436e-01 -7.47856557e-01\\n  5.08615613e-01  1.29296049e-01 -4.13540423e-01 -3.36201847e-01\\n  3.42961177e-02  1.33143455e-01  2.35641256e-01 -3.46291900e-01\\n  1.12144458e+00  2.47393996e-02 -4.23892170e-01 -2.87107587e-01\\n  1.69646412e-01  1.41596086e-02 -1.58838296e+00 -1.18925780e-01\\n  3.25257421e-01 -2.67087191e-01  3.86425197e-01  1.44915476e-01\\n  1.94656408e+00 -1.06899059e+00  6.19679391e-01  2.01772869e-01\\n -5.49888492e-01 -2.35555656e-02  1.27804899e+00 -1.02307029e-01\\n -3.27496678e-02 -8.78566951e-02  6.50276363e-01  2.02839732e-01\\n  7.62377620e-01 -3.97441328e-01 -9.05782700e-01 -8.43140185e-01\\n -2.37540007e-01  6.36305749e-01  2.11024255e-01  3.57134670e-01\\n -1.04400001e-01 -1.89545490e-02  2.39142746e-01 -4.02940094e-01\\n  3.13726991e-01 -2.90712893e-01 -6.49904370e-01  6.63611889e-02\\n  4.14022893e-01  5.78251332e-02 -1.22291811e-01 -2.59281069e-01\\n  2.79805660e-02 -3.76070112e-01 -1.01499414e+00 -7.70969450e-01\\n -6.23797834e-01  1.28640682e-01 -2.50761837e-01 -2.93670624e-01\\n -2.43149459e-01 -4.34496820e-01 -6.21471047e-01 -7.30459750e-01\\n -2.90456682e-01  1.09938979e+00  6.72631562e-02 -2.89708257e-01\\n  8.86785835e-02  5.80390215e-01  3.35760117e-01  5.39598107e-01\\n  6.13339365e-01  4.08998817e-01 -1.91598430e-01 -1.41019315e-01\\n  7.53479302e-01 -3.62591684e-01  1.64765511e-02 -5.92609346e-01\\n -5.11878431e-01  2.83789456e-01  1.22218955e+00  5.68975061e-02\\n -4.13248241e-01 -1.48550904e+00 -2.32751384e-01 -9.66085345e-02\\n  1.13948596e+00 -1.71873003e-01  7.55397826e-02  6.69654250e-01\\n -7.67865598e-01  6.09841585e-01  8.60622168e-01 -3.84189308e-01\\n -3.39838922e-01  1.05445039e+00 -1.11832726e+00 -1.11034214e+00\\n  4.49636012e-01  1.01650226e+00 -1.26815391e+00 -3.42364520e-01\\n -7.95331717e-01 -6.68787509e-02 -3.60475779e-01 -4.77006167e-01\\n -1.47295088e-01  2.97660362e-02  2.65514493e-01  9.79451180e-01\\n  8.17919970e-01 -2.13035196e-01  7.00247228e-01  4.82153028e-01\\n -3.04806054e-01  5.83575130e-01  2.38035306e-01 -1.13318396e+00\\n -2.05343932e-01  5.16128004e-01  3.37951958e-01  2.90842086e-01\\n -2.45464854e-02 -3.56256887e-02 -7.97991574e-01  1.45367056e-01\\n -4.09814030e-01 -1.11251473e+00  2.26656705e-01  5.80038905e-01\\n  1.50256529e-01 -2.07253262e-01 -1.95784539e-01  4.64760885e-03\\n -4.04964387e-02 -9.12073612e-01 -3.90473366e-01 -5.35062313e-01\\n  5.29183269e-01  1.01432490e+00 -6.30403817e-01 -9.76957977e-01\\n -5.64600468e-01  4.37100381e-01 -4.61658061e-01 -5.99691212e-01\\n  1.49597526e-01 -7.15019882e-01 -9.63075906e-02  7.95638412e-02\\n  3.52954090e-01 -1.03149354e+00 -2.04199329e-01  4.60368991e-01\\n -7.18238652e-01 -1.47010028e-01 -1.16728283e-01 -4.59147155e-01\\n -1.01236314e-01  2.41553128e-01 -2.18077406e-01  6.66960895e-01\\n -1.02663130e-01  7.03765333e-01  5.97868748e-02 -1.25328392e-01\\n  5.34255385e-01  1.17094301e-01  1.09669328e-01 -2.44791731e-01\\n  3.08605850e-01 -6.39849067e-01  7.78525829e-01  3.28403622e-01\\n -3.99822056e-01  9.55084980e-01 -4.00751345e-02 -5.06568670e-01\\n -4.76258159e-01 -8.30248117e-01 -2.04107121e-01  1.06830299e+00\\n -2.64016449e-01  9.03502703e-01 -3.69050428e-02  6.06765807e-01\\n -7.46705234e-01 -3.43609899e-01  8.01410377e-01 -7.36778438e-01\\n  7.44920611e-01  2.54532129e-01 -1.30265319e+00 -7.05668092e-01\\n -2.74717435e-03 -1.69528797e-01  6.22083902e-01 -1.39228441e-02\\n  5.04543483e-01  9.31733668e-01 -5.84799886e-01  1.17287767e+00\\n  1.68195322e-01 -8.94029438e-01  1.65070295e-01 -2.16825068e-01\\n  2.10075080e-01 -2.84144074e-01  2.03197807e-01  1.03713237e-01\\n  2.32007384e-01 -5.04929662e-01  2.69199520e-01  4.43382382e-01\\n  1.00523457e-02  2.18571916e-01  2.84188986e-03 -2.21543670e-01\\n  3.08197826e-01  8.22332203e-01  1.87360466e-01  5.45990646e-01\\n  3.96676183e-01 -7.61296988e-01 -1.37644768e-01  1.10930316e-01\\n -7.67250836e-01  1.34192124e-01  7.29090989e-01 -6.32431209e-01\\n  5.25774240e-01 -1.45789087e+00 -2.89787710e-01 -4.15027365e-02\\n -1.97161585e-01  4.15382236e-01 -1.61137596e-01  1.93718508e-01\\n  1.89580515e-01 -6.35156214e-01 -1.21574417e-01 -4.85295206e-01\\n -1.06570572e-01 -1.29951060e-01  5.15557408e-01  9.03408825e-02\\n -2.65309177e-02 -3.34135771e-01 -3.93927544e-01  9.55648124e-01\\n  4.94698137e-01  3.51195857e-02  4.33453381e-01 -4.11784053e-01\\n -4.23777819e-01  4.54157770e-01 -8.07429790e-01 -3.97382140e-01\\n  4.40017641e-01 -4.88420762e-02  6.15913749e-01  1.58877581e-01\\n  2.20977902e-01  4.15088609e-03 -1.45589411e-01 -1.73171535e-01\\n -2.25328296e-01 -3.09487898e-02  2.76710331e-01  1.06880999e+00\\n  2.02778935e-01 -9.19122458e-01  4.35030162e-01 -1.08685708e+00\\n -2.34632760e-01  6.38801515e-01 -2.91354865e-01  2.36925319e-01\\n  7.60040879e-01  8.48044306e-02 -2.79958814e-01 -1.98589981e-01\\n  2.55699486e-01 -8.12346697e-01 -9.63186771e-02 -5.35460591e-01\\n  7.95874000e-01  2.10040629e-01 -8.74342799e-01  4.23390627e-01\\n  7.39073515e-01 -4.13358212e-05 -9.84346271e-02  7.28422940e-01\\n  2.44045720e-01 -4.25431058e-02 -5.28234243e-02 -2.78893679e-01\\n  8.49634409e-01 -4.06143844e-01 -1.50182378e+00 -2.14665055e-01\\n -4.59054172e-01  4.77090538e-01 -6.58879280e-01 -6.83239937e-01\\n -8.48439097e-01 -8.19809511e-02 -6.96807742e-01  1.04211235e+00\\n  7.46384621e-01 -5.91720402e-01 -1.72334388e-02  1.80399343e-01\\n  2.71393657e-01  1.35906506e+00 -5.48490703e-01  3.39763522e-01\\n -1.45524517e-01  6.52041435e-02  6.94686413e-01  7.77724147e-01\\n -2.71440893e-01  3.60291779e-01 -2.21675098e-01 -1.55869588e-01\\n -9.58670139e-01 -7.55692303e-01  4.05722409e-01 -4.45305519e-02\\n  4.71820861e-01  1.26461792e+00  2.66858816e-01  8.54073524e-01\\n -1.87434077e-01  3.29944760e-01 -3.69338654e-02  8.55445415e-02\\n -4.47162330e-01 -1.69216201e-01  8.91085207e-01  2.02191323e-01\\n -6.54266417e-01 -1.32448003e-01 -3.88318390e-01 -3.50771189e-01\\n -4.02541399e-01 -3.14128369e-01  3.25680494e-01  2.03811914e-01\\n -4.01592348e-04 -3.69158894e-01 -3.61048341e-01  1.24001122e+00\\n -9.67659615e-03 -8.16669226e-01  9.31501985e-02 -3.31295371e-01\\n -1.69079632e-01  5.61630875e-02 -9.64933157e-01  7.66961873e-02\\n -6.85130835e-01 -6.86686695e-01 -3.28205619e-03 -1.29842639e-01\\n -6.79204583e-01  3.06991488e-02  7.57739227e-03 -1.35552943e+00\\n  3.77918661e-01  5.91165841e-01  1.75051987e-01 -2.78290272e-01\\n -5.01602769e-01 -3.46167207e-01 -2.39295494e-02  3.48384738e-01\\n -5.31505756e-02  4.91132326e-02  1.12117097e-01  4.88246799e-01\\n  3.35355371e-01  2.17117324e-01  2.12454706e-01  2.51951367e-01\\n  2.54917502e-01  2.22311094e-01 -5.53304672e-01  4.50679451e-01\\n -1.85921684e-01  5.63652813e-01  9.24516097e-02 -3.58670026e-01\\n  3.72517526e-01  3.78061309e-02 -5.94858229e-01 -8.22712064e-01\\n  1.37670964e-01  4.73285139e-01 -1.46191850e-01  9.00116920e-01\\n -6.48188412e-01  1.27886474e+00 -1.02377248e+00  4.55235839e-01\\n -2.91936517e-01  5.79611838e-01  5.34085222e-02 -3.11871231e-01\\n -5.19579537e-02  4.63432580e-01 -3.95929098e-01  6.37575626e-01\\n  1.42605901e-01  6.24195516e-01 -8.79769996e-02  8.03059459e-01\\n -1.80831060e-01  2.82261312e-01 -2.13862896e-01  6.80550158e-01\\n  5.65615773e-01 -7.44766235e-01 -8.91228244e-02 -3.28426883e-02\\n  3.09374154e-01 -5.16243339e-01 -1.09893046e-01 -1.81386322e-01\\n -1.55150086e-01 -3.81911635e-01  4.44613360e-02 -2.06964016e-01]'",
     "output_type": "error",
     "traceback": [
      "\u001b[1;31m---------------------------------------------------------------------------\u001b[0m",
      "\u001b[1;31mValueError\u001b[0m                                Traceback (most recent call last)",
      "\u001b[1;32mc:\\Users\\oskar\\Documents\\GitHub\\cluster_project\\Bert.ipynb Cell 15\u001b[0m in \u001b[0;36m<cell line: 1>\u001b[1;34m()\u001b[0m\n\u001b[1;32m----> <a href='vscode-notebook-cell:/c%3A/Users/oskar/Documents/GitHub/cluster_project/Bert.ipynb#X20sZmlsZQ%3D%3D?line=0'>1</a>\u001b[0m df[\u001b[39m'\u001b[39;49m\u001b[39mEmbedding\u001b[39;49m\u001b[39m'\u001b[39;49m]\u001b[39m.\u001b[39;49mastype(\u001b[39mfloat\u001b[39;49m)\n",
      "File \u001b[1;32mc:\\Users\\oskar\\AppData\\Local\\Programs\\Python\\Python310\\lib\\site-packages\\pandas\\core\\generic.py:5920\u001b[0m, in \u001b[0;36mNDFrame.astype\u001b[1;34m(self, dtype, copy, errors)\u001b[0m\n\u001b[0;32m   5913\u001b[0m     results \u001b[39m=\u001b[39m [\n\u001b[0;32m   5914\u001b[0m         \u001b[39mself\u001b[39m\u001b[39m.\u001b[39miloc[:, i]\u001b[39m.\u001b[39mastype(dtype, copy\u001b[39m=\u001b[39mcopy)\n\u001b[0;32m   5915\u001b[0m         \u001b[39mfor\u001b[39;00m i \u001b[39min\u001b[39;00m \u001b[39mrange\u001b[39m(\u001b[39mlen\u001b[39m(\u001b[39mself\u001b[39m\u001b[39m.\u001b[39mcolumns))\n\u001b[0;32m   5916\u001b[0m     ]\n\u001b[0;32m   5918\u001b[0m \u001b[39melse\u001b[39;00m:\n\u001b[0;32m   5919\u001b[0m     \u001b[39m# else, only a single dtype is given\u001b[39;00m\n\u001b[1;32m-> 5920\u001b[0m     new_data \u001b[39m=\u001b[39m \u001b[39mself\u001b[39;49m\u001b[39m.\u001b[39;49m_mgr\u001b[39m.\u001b[39;49mastype(dtype\u001b[39m=\u001b[39;49mdtype, copy\u001b[39m=\u001b[39;49mcopy, errors\u001b[39m=\u001b[39;49merrors)\n\u001b[0;32m   5921\u001b[0m     \u001b[39mreturn\u001b[39;00m \u001b[39mself\u001b[39m\u001b[39m.\u001b[39m_constructor(new_data)\u001b[39m.\u001b[39m__finalize__(\u001b[39mself\u001b[39m, method\u001b[39m=\u001b[39m\u001b[39m\"\u001b[39m\u001b[39mastype\u001b[39m\u001b[39m\"\u001b[39m)\n\u001b[0;32m   5923\u001b[0m \u001b[39m# GH 33113: handle empty frame or series\u001b[39;00m\n",
      "File \u001b[1;32mc:\\Users\\oskar\\AppData\\Local\\Programs\\Python\\Python310\\lib\\site-packages\\pandas\\core\\internals\\managers.py:419\u001b[0m, in \u001b[0;36mBaseBlockManager.astype\u001b[1;34m(self, dtype, copy, errors)\u001b[0m\n\u001b[0;32m    418\u001b[0m \u001b[39mdef\u001b[39;00m \u001b[39mastype\u001b[39m(\u001b[39mself\u001b[39m: T, dtype, copy: \u001b[39mbool\u001b[39m \u001b[39m=\u001b[39m \u001b[39mFalse\u001b[39;00m, errors: \u001b[39mstr\u001b[39m \u001b[39m=\u001b[39m \u001b[39m\"\u001b[39m\u001b[39mraise\u001b[39m\u001b[39m\"\u001b[39m) \u001b[39m-\u001b[39m\u001b[39m>\u001b[39m T:\n\u001b[1;32m--> 419\u001b[0m     \u001b[39mreturn\u001b[39;00m \u001b[39mself\u001b[39;49m\u001b[39m.\u001b[39;49mapply(\u001b[39m\"\u001b[39;49m\u001b[39mastype\u001b[39;49m\u001b[39m\"\u001b[39;49m, dtype\u001b[39m=\u001b[39;49mdtype, copy\u001b[39m=\u001b[39;49mcopy, errors\u001b[39m=\u001b[39;49merrors)\n",
      "File \u001b[1;32mc:\\Users\\oskar\\AppData\\Local\\Programs\\Python\\Python310\\lib\\site-packages\\pandas\\core\\internals\\managers.py:304\u001b[0m, in \u001b[0;36mBaseBlockManager.apply\u001b[1;34m(self, f, align_keys, ignore_failures, **kwargs)\u001b[0m\n\u001b[0;32m    302\u001b[0m         applied \u001b[39m=\u001b[39m b\u001b[39m.\u001b[39mapply(f, \u001b[39m*\u001b[39m\u001b[39m*\u001b[39mkwargs)\n\u001b[0;32m    303\u001b[0m     \u001b[39melse\u001b[39;00m:\n\u001b[1;32m--> 304\u001b[0m         applied \u001b[39m=\u001b[39m \u001b[39mgetattr\u001b[39m(b, f)(\u001b[39m*\u001b[39m\u001b[39m*\u001b[39mkwargs)\n\u001b[0;32m    305\u001b[0m \u001b[39mexcept\u001b[39;00m (\u001b[39mTypeError\u001b[39;00m, \u001b[39mNotImplementedError\u001b[39;00m):\n\u001b[0;32m    306\u001b[0m     \u001b[39mif\u001b[39;00m \u001b[39mnot\u001b[39;00m ignore_failures:\n",
      "File \u001b[1;32mc:\\Users\\oskar\\AppData\\Local\\Programs\\Python\\Python310\\lib\\site-packages\\pandas\\core\\internals\\blocks.py:580\u001b[0m, in \u001b[0;36mBlock.astype\u001b[1;34m(self, dtype, copy, errors)\u001b[0m\n\u001b[0;32m    562\u001b[0m \u001b[39m\"\"\"\u001b[39;00m\n\u001b[0;32m    563\u001b[0m \u001b[39mCoerce to the new dtype.\u001b[39;00m\n\u001b[0;32m    564\u001b[0m \n\u001b[1;32m   (...)\u001b[0m\n\u001b[0;32m    576\u001b[0m \u001b[39mBlock\u001b[39;00m\n\u001b[0;32m    577\u001b[0m \u001b[39m\"\"\"\u001b[39;00m\n\u001b[0;32m    578\u001b[0m values \u001b[39m=\u001b[39m \u001b[39mself\u001b[39m\u001b[39m.\u001b[39mvalues\n\u001b[1;32m--> 580\u001b[0m new_values \u001b[39m=\u001b[39m astype_array_safe(values, dtype, copy\u001b[39m=\u001b[39;49mcopy, errors\u001b[39m=\u001b[39;49merrors)\n\u001b[0;32m    582\u001b[0m new_values \u001b[39m=\u001b[39m maybe_coerce_values(new_values)\n\u001b[0;32m    583\u001b[0m newb \u001b[39m=\u001b[39m \u001b[39mself\u001b[39m\u001b[39m.\u001b[39mmake_block(new_values)\n",
      "File \u001b[1;32mc:\\Users\\oskar\\AppData\\Local\\Programs\\Python\\Python310\\lib\\site-packages\\pandas\\core\\dtypes\\cast.py:1292\u001b[0m, in \u001b[0;36mastype_array_safe\u001b[1;34m(values, dtype, copy, errors)\u001b[0m\n\u001b[0;32m   1289\u001b[0m     dtype \u001b[39m=\u001b[39m dtype\u001b[39m.\u001b[39mnumpy_dtype\n\u001b[0;32m   1291\u001b[0m \u001b[39mtry\u001b[39;00m:\n\u001b[1;32m-> 1292\u001b[0m     new_values \u001b[39m=\u001b[39m astype_array(values, dtype, copy\u001b[39m=\u001b[39;49mcopy)\n\u001b[0;32m   1293\u001b[0m \u001b[39mexcept\u001b[39;00m (\u001b[39mValueError\u001b[39;00m, \u001b[39mTypeError\u001b[39;00m):\n\u001b[0;32m   1294\u001b[0m     \u001b[39m# e.g. astype_nansafe can fail on object-dtype of strings\u001b[39;00m\n\u001b[0;32m   1295\u001b[0m     \u001b[39m#  trying to convert to float\u001b[39;00m\n\u001b[0;32m   1296\u001b[0m     \u001b[39mif\u001b[39;00m errors \u001b[39m==\u001b[39m \u001b[39m\"\u001b[39m\u001b[39mignore\u001b[39m\u001b[39m\"\u001b[39m:\n",
      "File \u001b[1;32mc:\\Users\\oskar\\AppData\\Local\\Programs\\Python\\Python310\\lib\\site-packages\\pandas\\core\\dtypes\\cast.py:1237\u001b[0m, in \u001b[0;36mastype_array\u001b[1;34m(values, dtype, copy)\u001b[0m\n\u001b[0;32m   1234\u001b[0m     values \u001b[39m=\u001b[39m values\u001b[39m.\u001b[39mastype(dtype, copy\u001b[39m=\u001b[39mcopy)\n\u001b[0;32m   1236\u001b[0m \u001b[39melse\u001b[39;00m:\n\u001b[1;32m-> 1237\u001b[0m     values \u001b[39m=\u001b[39m astype_nansafe(values, dtype, copy\u001b[39m=\u001b[39;49mcopy)\n\u001b[0;32m   1239\u001b[0m \u001b[39m# in pandas we don't store numpy str dtypes, so convert to object\u001b[39;00m\n\u001b[0;32m   1240\u001b[0m \u001b[39mif\u001b[39;00m \u001b[39misinstance\u001b[39m(dtype, np\u001b[39m.\u001b[39mdtype) \u001b[39mand\u001b[39;00m \u001b[39missubclass\u001b[39m(values\u001b[39m.\u001b[39mdtype\u001b[39m.\u001b[39mtype, \u001b[39mstr\u001b[39m):\n",
      "File \u001b[1;32mc:\\Users\\oskar\\AppData\\Local\\Programs\\Python\\Python310\\lib\\site-packages\\pandas\\core\\dtypes\\cast.py:1181\u001b[0m, in \u001b[0;36mastype_nansafe\u001b[1;34m(arr, dtype, copy, skipna)\u001b[0m\n\u001b[0;32m   1177\u001b[0m     \u001b[39mraise\u001b[39;00m \u001b[39mValueError\u001b[39;00m(msg)\n\u001b[0;32m   1179\u001b[0m \u001b[39mif\u001b[39;00m copy \u001b[39mor\u001b[39;00m is_object_dtype(arr\u001b[39m.\u001b[39mdtype) \u001b[39mor\u001b[39;00m is_object_dtype(dtype):\n\u001b[0;32m   1180\u001b[0m     \u001b[39m# Explicit copy, or required since NumPy can't view from / to object.\u001b[39;00m\n\u001b[1;32m-> 1181\u001b[0m     \u001b[39mreturn\u001b[39;00m arr\u001b[39m.\u001b[39;49mastype(dtype, copy\u001b[39m=\u001b[39;49m\u001b[39mTrue\u001b[39;49;00m)\n\u001b[0;32m   1183\u001b[0m \u001b[39mreturn\u001b[39;00m arr\u001b[39m.\u001b[39mastype(dtype, copy\u001b[39m=\u001b[39mcopy)\n",
      "\u001b[1;31mValueError\u001b[0m: could not convert string to float: '[-6.04341269e-01 -3.84352773e-01  5.39671361e-01 -7.18052626e-01\\n -5.47539175e-01 -4.05601978e-01 -2.92825758e-01 -1.10647714e+00\\n  3.88958693e-01 -1.21477984e-01  1.20023477e+00  3.39339256e-01\\n -1.26013362e+00  6.47450268e-01  6.62060976e-02 -5.84870040e-01\\n -1.71622306e-01  3.79486084e-01 -5.13906658e-01 -4.56014514e-01\\n -1.77051760e-02 -3.55901197e-02  6.22463413e-03  8.78412485e-01\\n -3.59800085e-02 -1.89855352e-01 -3.16645324e-01 -3.59409362e-01\\n  4.91549462e-01  4.46036369e-01  2.74580508e-01  6.61258042e-01\\n -1.03830981e+00 -4.93150502e-02  1.42581448e-01 -2.65268832e-01\\n  2.96442002e-01 -3.69699448e-01  6.73071504e-01 -4.61198270e-01\\n -3.55622083e-01 -1.68507850e+00 -2.03492895e-01  1.30279267e+00\\n  5.22589907e-02 -4.02631834e-02  2.89943337e-01  2.87973732e-01\\n -2.55662382e-01 -4.23777729e-01 -4.42797318e-03 -5.03054142e-01\\n  3.40835750e-01  4.74684238e-02  4.32311714e-01 -2.55646169e-01\\n  6.22654259e-02 -1.39187314e-02  4.81390238e-01 -3.19934130e-01\\n -3.92044514e-01  7.55735397e-01 -3.88430476e-01 -7.01925516e-01\\n  3.62049341e-01 -5.67896187e-01 -7.49808073e-01  1.03307986e+00\\n -1.03007007e+00 -1.05952644e+00 -7.89054781e-02  1.72982290e-02\\n -1.06278881e-01 -4.59450111e-02 -3.48952502e-01 -1.13726234e+00\\n  2.55287856e-01 -3.58845681e-01  9.13324207e-02 -1.36033103e-01\\n  4.67035115e-01  6.46798372e-01 -1.23538040e-02  6.99181139e-01\\n  3.66897762e-01  9.30766284e-01  1.04476392e+00 -4.02230948e-01\\n  2.42526874e-01  2.60116458e-01  3.56449746e-04 -4.41386461e-01\\n  3.11044246e-01 -4.16004002e-01  4.26500142e-01  6.19231723e-03\\n  9.22059655e-01 -1.08250177e+00 -3.40694100e-01  5.65886676e-01\\n  4.50176239e-01  2.69003451e-01  9.21498299e-01  1.30953646e+00\\n  5.41473269e-01 -6.00362957e-01  5.13202190e-01 -1.65901259e-01\\n  2.22854316e-02 -3.64982098e-01  1.02350228e-01 -1.89563245e-01\\n -1.53500870e-01 -6.63890183e-01 -1.00465221e-02 -1.31592965e+00\\n -3.69073629e-01  2.02865705e-01  9.40210879e-01  2.70791590e-01\\n  6.93041459e-02 -5.91649652e-01  4.71724778e-01 -1.00832832e+00\\n -7.63235867e-01  2.65493214e-01 -5.80389917e-01  1.16699159e-01\\n -3.74473780e-01 -6.85160100e-01 -2.16294378e-01  8.33263218e-01\\n -5.90128005e-02 -5.07824838e-01 -1.16521999e-01 -1.43995032e-01\\n -3.32122982e-01  4.45746183e-01 -3.26160282e-01 -5.24708331e-01\\n -6.17793441e-01 -3.99083704e-01  1.27412462e+00 -5.88686645e-01\\n -6.18682146e-01 -8.13595533e-01 -1.63633776e+00 -8.88081074e-01\\n  3.39661181e-01 -7.52123177e-01  2.26113468e-01 -1.45993471e-01\\n  6.58838570e-01 -8.60132039e-01 -2.32066408e-01 -1.93420202e-01\\n  6.07486963e-01 -5.57324052e-01 -2.66309798e-01 -3.65011603e-01\\n -5.53736150e-01 -6.98678136e-01  3.97510469e-01 -9.94663313e-02\\n  1.08591330e+00 -1.06363237e+00  1.89798459e-01 -7.49430895e-01\\n -5.09529889e-01  4.77171481e-01 -5.43815494e-01  3.32035393e-01\\n  1.47730303e+00  5.96032515e-02  1.94510174e+00 -3.38383503e-02\\n  1.84307694e-01  4.54663754e-01 -1.04898840e-01  4.17720973e-01\\n -4.38647151e-01 -3.08175147e-01  5.41928172e-01  4.99161631e-01\\n -5.28919756e-01 -1.21770814e-01  4.46694553e-01  2.77791053e-01\\n  8.36047590e-01  4.69956040e-01 -2.50051588e-01 -2.40257367e-01\\n -5.90070844e-01  7.07173347e-01  3.11760664e-01 -5.47618508e-01\\n  2.43768185e-01  8.68667141e-02  2.47421056e-01 -5.21713793e-01\\n -7.60857522e-01 -1.54603469e+00 -1.98477566e-01 -3.83613914e-01\\n -2.70724408e-02 -8.17213356e-02  1.18421532e-01 -8.98433805e-01\\n  2.44592130e-02 -3.84321958e-01 -1.51238486e-01  1.03592324e+00\\n -3.61829758e-01 -5.91743827e-01 -6.39936998e-02 -9.84543622e-01\\n -2.51276553e-01  1.36392340e-01 -2.60280192e-01  9.49612081e-01\\n  8.44463229e-01 -5.76106012e-01 -2.81885952e-01  5.10233521e-01\\n  2.10879624e-01 -1.24561405e+00 -4.90337342e-01 -1.72188595e-01\\n  5.63419402e-01 -1.24472842e-01  2.33160228e-01  3.93042900e-02\\n -5.91891184e-02 -4.31610465e-01  7.13445172e-02 -5.61019480e-01\\n -9.00505662e-01  2.22044051e-01  6.39286518e-01 -9.97300565e-01\\n -5.65452814e-01  8.77530932e-01  9.60004181e-02  6.25809550e-01\\n  3.04640830e-01 -5.18671632e-01 -2.25775212e-01 -4.52644974e-01\\n -2.70012170e-01  5.90493441e-01 -1.41668737e+00 -5.56259453e-01\\n -7.12816417e-03 -7.52884924e-01  3.29501837e-01 -3.81358951e-01\\n  1.01749754e+00 -4.52277541e-01 -2.30643779e-01  2.20410705e-01\\n  1.27754137e-01 -2.45786518e-01 -2.47365445e-01 -3.86796027e-01\\n -6.72907948e-01  2.31577873e-01 -1.07460606e+00 -5.28174751e-02\\n -2.09854156e-01  3.09022754e-01  3.23584229e-01 -2.27945805e-01\\n  1.49612799e-01  4.34971720e-01 -3.28806072e-01 -6.97080016e-01\\n  7.84052551e-01  7.90416636e-03  5.81603706e-01  7.87841082e-01\\n  1.01512253e+00  5.96765578e-01 -1.26133636e-01 -7.20130026e-01\\n  2.54364699e-01  8.54648128e-02  1.20066905e+00 -1.61672205e-01\\n  3.97522151e-01 -4.37974870e-01  2.45135933e-01  4.04638052e-02\\n -2.98921138e-01  7.87649393e-01  2.40446612e-01 -1.66834816e-01\\n  6.70379102e-02  3.81958969e-02 -1.05343759e-03  4.21277046e-01\\n -1.38301849e-02 -8.82572770e-01  3.85402292e-01  4.76071298e-01\\n -4.13908511e-01 -5.40275812e-01  7.05158055e-01 -8.53803039e-01\\n  6.79751098e-01 -4.44886714e-01  1.13217509e+00 -8.60459507e-01\\n -2.66941693e-02  4.35503036e-01  2.17411369e-01  5.66685915e-01\\n -2.07883522e-01 -7.69098699e-01 -6.17933631e-01  5.73774017e-02\\n -4.18972790e-01 -1.83718309e-01 -3.70454341e-01  3.39401186e-01\\n  6.19756818e-01  1.48118353e+00  2.21772045e-01  8.65065217e-01\\n -4.48311031e-01  7.87309855e-02  1.94984436e-01 -7.47856557e-01\\n  5.08615613e-01  1.29296049e-01 -4.13540423e-01 -3.36201847e-01\\n  3.42961177e-02  1.33143455e-01  2.35641256e-01 -3.46291900e-01\\n  1.12144458e+00  2.47393996e-02 -4.23892170e-01 -2.87107587e-01\\n  1.69646412e-01  1.41596086e-02 -1.58838296e+00 -1.18925780e-01\\n  3.25257421e-01 -2.67087191e-01  3.86425197e-01  1.44915476e-01\\n  1.94656408e+00 -1.06899059e+00  6.19679391e-01  2.01772869e-01\\n -5.49888492e-01 -2.35555656e-02  1.27804899e+00 -1.02307029e-01\\n -3.27496678e-02 -8.78566951e-02  6.50276363e-01  2.02839732e-01\\n  7.62377620e-01 -3.97441328e-01 -9.05782700e-01 -8.43140185e-01\\n -2.37540007e-01  6.36305749e-01  2.11024255e-01  3.57134670e-01\\n -1.04400001e-01 -1.89545490e-02  2.39142746e-01 -4.02940094e-01\\n  3.13726991e-01 -2.90712893e-01 -6.49904370e-01  6.63611889e-02\\n  4.14022893e-01  5.78251332e-02 -1.22291811e-01 -2.59281069e-01\\n  2.79805660e-02 -3.76070112e-01 -1.01499414e+00 -7.70969450e-01\\n -6.23797834e-01  1.28640682e-01 -2.50761837e-01 -2.93670624e-01\\n -2.43149459e-01 -4.34496820e-01 -6.21471047e-01 -7.30459750e-01\\n -2.90456682e-01  1.09938979e+00  6.72631562e-02 -2.89708257e-01\\n  8.86785835e-02  5.80390215e-01  3.35760117e-01  5.39598107e-01\\n  6.13339365e-01  4.08998817e-01 -1.91598430e-01 -1.41019315e-01\\n  7.53479302e-01 -3.62591684e-01  1.64765511e-02 -5.92609346e-01\\n -5.11878431e-01  2.83789456e-01  1.22218955e+00  5.68975061e-02\\n -4.13248241e-01 -1.48550904e+00 -2.32751384e-01 -9.66085345e-02\\n  1.13948596e+00 -1.71873003e-01  7.55397826e-02  6.69654250e-01\\n -7.67865598e-01  6.09841585e-01  8.60622168e-01 -3.84189308e-01\\n -3.39838922e-01  1.05445039e+00 -1.11832726e+00 -1.11034214e+00\\n  4.49636012e-01  1.01650226e+00 -1.26815391e+00 -3.42364520e-01\\n -7.95331717e-01 -6.68787509e-02 -3.60475779e-01 -4.77006167e-01\\n -1.47295088e-01  2.97660362e-02  2.65514493e-01  9.79451180e-01\\n  8.17919970e-01 -2.13035196e-01  7.00247228e-01  4.82153028e-01\\n -3.04806054e-01  5.83575130e-01  2.38035306e-01 -1.13318396e+00\\n -2.05343932e-01  5.16128004e-01  3.37951958e-01  2.90842086e-01\\n -2.45464854e-02 -3.56256887e-02 -7.97991574e-01  1.45367056e-01\\n -4.09814030e-01 -1.11251473e+00  2.26656705e-01  5.80038905e-01\\n  1.50256529e-01 -2.07253262e-01 -1.95784539e-01  4.64760885e-03\\n -4.04964387e-02 -9.12073612e-01 -3.90473366e-01 -5.35062313e-01\\n  5.29183269e-01  1.01432490e+00 -6.30403817e-01 -9.76957977e-01\\n -5.64600468e-01  4.37100381e-01 -4.61658061e-01 -5.99691212e-01\\n  1.49597526e-01 -7.15019882e-01 -9.63075906e-02  7.95638412e-02\\n  3.52954090e-01 -1.03149354e+00 -2.04199329e-01  4.60368991e-01\\n -7.18238652e-01 -1.47010028e-01 -1.16728283e-01 -4.59147155e-01\\n -1.01236314e-01  2.41553128e-01 -2.18077406e-01  6.66960895e-01\\n -1.02663130e-01  7.03765333e-01  5.97868748e-02 -1.25328392e-01\\n  5.34255385e-01  1.17094301e-01  1.09669328e-01 -2.44791731e-01\\n  3.08605850e-01 -6.39849067e-01  7.78525829e-01  3.28403622e-01\\n -3.99822056e-01  9.55084980e-01 -4.00751345e-02 -5.06568670e-01\\n -4.76258159e-01 -8.30248117e-01 -2.04107121e-01  1.06830299e+00\\n -2.64016449e-01  9.03502703e-01 -3.69050428e-02  6.06765807e-01\\n -7.46705234e-01 -3.43609899e-01  8.01410377e-01 -7.36778438e-01\\n  7.44920611e-01  2.54532129e-01 -1.30265319e+00 -7.05668092e-01\\n -2.74717435e-03 -1.69528797e-01  6.22083902e-01 -1.39228441e-02\\n  5.04543483e-01  9.31733668e-01 -5.84799886e-01  1.17287767e+00\\n  1.68195322e-01 -8.94029438e-01  1.65070295e-01 -2.16825068e-01\\n  2.10075080e-01 -2.84144074e-01  2.03197807e-01  1.03713237e-01\\n  2.32007384e-01 -5.04929662e-01  2.69199520e-01  4.43382382e-01\\n  1.00523457e-02  2.18571916e-01  2.84188986e-03 -2.21543670e-01\\n  3.08197826e-01  8.22332203e-01  1.87360466e-01  5.45990646e-01\\n  3.96676183e-01 -7.61296988e-01 -1.37644768e-01  1.10930316e-01\\n -7.67250836e-01  1.34192124e-01  7.29090989e-01 -6.32431209e-01\\n  5.25774240e-01 -1.45789087e+00 -2.89787710e-01 -4.15027365e-02\\n -1.97161585e-01  4.15382236e-01 -1.61137596e-01  1.93718508e-01\\n  1.89580515e-01 -6.35156214e-01 -1.21574417e-01 -4.85295206e-01\\n -1.06570572e-01 -1.29951060e-01  5.15557408e-01  9.03408825e-02\\n -2.65309177e-02 -3.34135771e-01 -3.93927544e-01  9.55648124e-01\\n  4.94698137e-01  3.51195857e-02  4.33453381e-01 -4.11784053e-01\\n -4.23777819e-01  4.54157770e-01 -8.07429790e-01 -3.97382140e-01\\n  4.40017641e-01 -4.88420762e-02  6.15913749e-01  1.58877581e-01\\n  2.20977902e-01  4.15088609e-03 -1.45589411e-01 -1.73171535e-01\\n -2.25328296e-01 -3.09487898e-02  2.76710331e-01  1.06880999e+00\\n  2.02778935e-01 -9.19122458e-01  4.35030162e-01 -1.08685708e+00\\n -2.34632760e-01  6.38801515e-01 -2.91354865e-01  2.36925319e-01\\n  7.60040879e-01  8.48044306e-02 -2.79958814e-01 -1.98589981e-01\\n  2.55699486e-01 -8.12346697e-01 -9.63186771e-02 -5.35460591e-01\\n  7.95874000e-01  2.10040629e-01 -8.74342799e-01  4.23390627e-01\\n  7.39073515e-01 -4.13358212e-05 -9.84346271e-02  7.28422940e-01\\n  2.44045720e-01 -4.25431058e-02 -5.28234243e-02 -2.78893679e-01\\n  8.49634409e-01 -4.06143844e-01 -1.50182378e+00 -2.14665055e-01\\n -4.59054172e-01  4.77090538e-01 -6.58879280e-01 -6.83239937e-01\\n -8.48439097e-01 -8.19809511e-02 -6.96807742e-01  1.04211235e+00\\n  7.46384621e-01 -5.91720402e-01 -1.72334388e-02  1.80399343e-01\\n  2.71393657e-01  1.35906506e+00 -5.48490703e-01  3.39763522e-01\\n -1.45524517e-01  6.52041435e-02  6.94686413e-01  7.77724147e-01\\n -2.71440893e-01  3.60291779e-01 -2.21675098e-01 -1.55869588e-01\\n -9.58670139e-01 -7.55692303e-01  4.05722409e-01 -4.45305519e-02\\n  4.71820861e-01  1.26461792e+00  2.66858816e-01  8.54073524e-01\\n -1.87434077e-01  3.29944760e-01 -3.69338654e-02  8.55445415e-02\\n -4.47162330e-01 -1.69216201e-01  8.91085207e-01  2.02191323e-01\\n -6.54266417e-01 -1.32448003e-01 -3.88318390e-01 -3.50771189e-01\\n -4.02541399e-01 -3.14128369e-01  3.25680494e-01  2.03811914e-01\\n -4.01592348e-04 -3.69158894e-01 -3.61048341e-01  1.24001122e+00\\n -9.67659615e-03 -8.16669226e-01  9.31501985e-02 -3.31295371e-01\\n -1.69079632e-01  5.61630875e-02 -9.64933157e-01  7.66961873e-02\\n -6.85130835e-01 -6.86686695e-01 -3.28205619e-03 -1.29842639e-01\\n -6.79204583e-01  3.06991488e-02  7.57739227e-03 -1.35552943e+00\\n  3.77918661e-01  5.91165841e-01  1.75051987e-01 -2.78290272e-01\\n -5.01602769e-01 -3.46167207e-01 -2.39295494e-02  3.48384738e-01\\n -5.31505756e-02  4.91132326e-02  1.12117097e-01  4.88246799e-01\\n  3.35355371e-01  2.17117324e-01  2.12454706e-01  2.51951367e-01\\n  2.54917502e-01  2.22311094e-01 -5.53304672e-01  4.50679451e-01\\n -1.85921684e-01  5.63652813e-01  9.24516097e-02 -3.58670026e-01\\n  3.72517526e-01  3.78061309e-02 -5.94858229e-01 -8.22712064e-01\\n  1.37670964e-01  4.73285139e-01 -1.46191850e-01  9.00116920e-01\\n -6.48188412e-01  1.27886474e+00 -1.02377248e+00  4.55235839e-01\\n -2.91936517e-01  5.79611838e-01  5.34085222e-02 -3.11871231e-01\\n -5.19579537e-02  4.63432580e-01 -3.95929098e-01  6.37575626e-01\\n  1.42605901e-01  6.24195516e-01 -8.79769996e-02  8.03059459e-01\\n -1.80831060e-01  2.82261312e-01 -2.13862896e-01  6.80550158e-01\\n  5.65615773e-01 -7.44766235e-01 -8.91228244e-02 -3.28426883e-02\\n  3.09374154e-01 -5.16243339e-01 -1.09893046e-01 -1.81386322e-01\\n -1.55150086e-01 -3.81911635e-01  4.44613360e-02 -2.06964016e-01]'"
     ]
    }
   ],
   "source": [
    "df['Embedding'].astype(float)"
   ]
  }
 ],
 "metadata": {
  "kernelspec": {
   "display_name": "Python 3",
   "language": "python",
   "name": "python3"
  },
  "language_info": {
   "codemirror_mode": {
    "name": "ipython",
    "version": 3
   },
   "file_extension": ".py",
   "mimetype": "text/x-python",
   "name": "python",
   "nbconvert_exporter": "python",
   "pygments_lexer": "ipython3",
   "version": "3.10.2"
  },
  "orig_nbformat": 4
 },
 "nbformat": 4,
 "nbformat_minor": 2
}
