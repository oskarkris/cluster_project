{
 "cells": [
  {
   "cell_type": "code",
   "execution_count": 4,
   "metadata": {},
   "outputs": [],
   "source": [
    "from sklearn.cluster import KMeans\n",
    "from sklearn.feature_extraction.text import TfidfVectorizer\n",
    "import pandas as pd\n",
    "import numpy as np\n",
    "\n",
    "import tarfile\n",
    "import urllib\n",
    "\n",
    "#!pip install seaborn\n",
    "\n",
    "import numpy as np\n",
    "import matplotlib.pyplot as plt\n",
    "import pandas as pd\n",
    "import seaborn as sns\n",
    "\n",
    "\n",
    "from sklearn.cluster import KMeans\n",
    "from sklearn.decomposition import PCA\n",
    "from sklearn.metrics import silhouette_score, adjusted_rand_score\n",
    "from sklearn.pipeline import Pipeline\n",
    "from sklearn.preprocessing import LabelEncoder, MinMaxScaler, StandardScaler\n"
   ]
  },
  {
   "cell_type": "code",
   "execution_count": 5,
   "metadata": {},
   "outputs": [],
   "source": [
    "#!pip install seaborn"
   ]
  },
  {
   "attachments": {},
   "cell_type": "markdown",
   "metadata": {},
   "source": [
    "https://medium.com/@dennisndungu68/text-classification-using-k-means-33bea24e4a94\n",
    "\n",
    "https://realpython.com/k-means-clustering-python/#how-to-build-a-k-means-clustering-pipeline-in-python\n",
    "\n",
    "https://towardsdatascience.com/kmeans-clustering-for-classification-74b992405d0a\n"
   ]
  },
  {
   "cell_type": "code",
   "execution_count": 6,
   "metadata": {},
   "outputs": [
    {
     "data": {
      "text/html": [
       "<div>\n",
       "<style scoped>\n",
       "    .dataframe tbody tr th:only-of-type {\n",
       "        vertical-align: middle;\n",
       "    }\n",
       "\n",
       "    .dataframe tbody tr th {\n",
       "        vertical-align: top;\n",
       "    }\n",
       "\n",
       "    .dataframe thead th {\n",
       "        text-align: right;\n",
       "    }\n",
       "</style>\n",
       "<table border=\"1\" class=\"dataframe\">\n",
       "  <thead>\n",
       "    <tr style=\"text-align: right;\">\n",
       "      <th></th>\n",
       "      <th>index</th>\n",
       "      <th>title</th>\n",
       "      <th>year</th>\n",
       "      <th>wos</th>\n",
       "      <th>en</th>\n",
       "      <th>link</th>\n",
       "      <th>abstract</th>\n",
       "      <th>citations</th>\n",
       "      <th>clean_abstract</th>\n",
       "      <th>abstract_length</th>\n",
       "    </tr>\n",
       "  </thead>\n",
       "  <tbody>\n",
       "    <tr>\n",
       "      <th>0</th>\n",
       "      <td>0</td>\n",
       "      <td>Financing Climate Change Adaptation: Internati...</td>\n",
       "      <td>2021.0</td>\n",
       "      <td>WOS:000666451800001</td>\n",
       "      <td>True</td>\n",
       "      <td>&lt;a href=\"https://www.webofscience.com/wos/wosc...</td>\n",
       "      <td>Climate change adaptation is one of the main s...</td>\n",
       "      <td>27</td>\n",
       "      <td>one main strategy address global least develop...</td>\n",
       "      <td>64</td>\n",
       "    </tr>\n",
       "    <tr>\n",
       "      <th>1</th>\n",
       "      <td>1</td>\n",
       "      <td>Driving the agenda for climate change adaptati...</td>\n",
       "      <td>2013.0</td>\n",
       "      <td>WOS:000320956800008</td>\n",
       "      <td>True</td>\n",
       "      <td>&lt;a href=\"https://www.webofscience.com/wos/wosc...</td>\n",
       "      <td>The absence of clear signals from the Norwegia...</td>\n",
       "      <td>55</td>\n",
       "      <td>absence clear signal norwegian state concernin...</td>\n",
       "      <td>62</td>\n",
       "    </tr>\n",
       "    <tr>\n",
       "      <th>2</th>\n",
       "      <td>2</td>\n",
       "      <td>Climate change adaptation policies and plans: ...</td>\n",
       "      <td>2018.0</td>\n",
       "      <td>WOS:000417078200110</td>\n",
       "      <td>True</td>\n",
       "      <td>&lt;a href=\"https://www.webofscience.com/wos/wosc...</td>\n",
       "      <td>Building a climate-ready adaptation society is...</td>\n",
       "      <td>48</td>\n",
       "      <td>building ready society urgent question cannot ...</td>\n",
       "      <td>167</td>\n",
       "    </tr>\n",
       "    <tr>\n",
       "      <th>3</th>\n",
       "      <td>3</td>\n",
       "      <td>Place-based climate change adaptation: A criti...</td>\n",
       "      <td>2014.0</td>\n",
       "      <td>WOS:000345061100013</td>\n",
       "      <td>True</td>\n",
       "      <td>&lt;a href=\"https://www.webofscience.com/wos/wosc...</td>\n",
       "      <td>Climate change adaptation frameworks often emp...</td>\n",
       "      <td>66</td>\n",
       "      <td>framework often emphasize tangible community v...</td>\n",
       "      <td>113</td>\n",
       "    </tr>\n",
       "    <tr>\n",
       "      <th>4</th>\n",
       "      <td>4</td>\n",
       "      <td>Responsibility for private sector adaptation t...</td>\n",
       "      <td>2014.0</td>\n",
       "      <td>WOS:000338711600014</td>\n",
       "      <td>True</td>\n",
       "      <td>&lt;a href=\"https://www.webofscience.com/wos/wosc...</td>\n",
       "      <td>The Intergovernmental Panel on Climate Change ...</td>\n",
       "      <td>56</td>\n",
       "      <td>intergovernmental panel 2007 indicates vulnera...</td>\n",
       "      <td>168</td>\n",
       "    </tr>\n",
       "  </tbody>\n",
       "</table>\n",
       "</div>"
      ],
      "text/plain": [
       "   index                                              title    year  \\\n",
       "0      0  Financing Climate Change Adaptation: Internati...  2021.0   \n",
       "1      1  Driving the agenda for climate change adaptati...  2013.0   \n",
       "2      2  Climate change adaptation policies and plans: ...  2018.0   \n",
       "3      3  Place-based climate change adaptation: A criti...  2014.0   \n",
       "4      4  Responsibility for private sector adaptation t...  2014.0   \n",
       "\n",
       "                   wos    en  \\\n",
       "0  WOS:000666451800001  True   \n",
       "1  WOS:000320956800008  True   \n",
       "2  WOS:000417078200110  True   \n",
       "3  WOS:000345061100013  True   \n",
       "4  WOS:000338711600014  True   \n",
       "\n",
       "                                                link  \\\n",
       "0  <a href=\"https://www.webofscience.com/wos/wosc...   \n",
       "1  <a href=\"https://www.webofscience.com/wos/wosc...   \n",
       "2  <a href=\"https://www.webofscience.com/wos/wosc...   \n",
       "3  <a href=\"https://www.webofscience.com/wos/wosc...   \n",
       "4  <a href=\"https://www.webofscience.com/wos/wosc...   \n",
       "\n",
       "                                            abstract  citations  \\\n",
       "0  Climate change adaptation is one of the main s...         27   \n",
       "1  The absence of clear signals from the Norwegia...         55   \n",
       "2  Building a climate-ready adaptation society is...         48   \n",
       "3  Climate change adaptation frameworks often emp...         66   \n",
       "4  The Intergovernmental Panel on Climate Change ...         56   \n",
       "\n",
       "                                      clean_abstract  abstract_length  \n",
       "0  one main strategy address global least develop...               64  \n",
       "1  absence clear signal norwegian state concernin...               62  \n",
       "2  building ready society urgent question cannot ...              167  \n",
       "3  framework often emphasize tangible community v...              113  \n",
       "4  intergovernmental panel 2007 indicates vulnera...              168  "
      ]
     },
     "execution_count": 6,
     "metadata": {},
     "output_type": "execute_result"
    }
   ],
   "source": [
    "df = pd.read_csv(r'master.csv')\n",
    "df.head()"
   ]
  },
  {
   "cell_type": "code",
   "execution_count": 7,
   "metadata": {},
   "outputs": [],
   "source": [
    "vectorizer = TfidfVectorizer(analyzer='word', min_df=0, stop_words='english')\n",
    "#Bruke BERT vectorizer?\n",
    "data = vectorizer.fit_transform(df[\"clean_abstract\"]).toarray()"
   ]
  },
  {
   "cell_type": "code",
   "execution_count": 8,
   "metadata": {},
   "outputs": [],
   "source": [
    "n_clusters = 5\n",
    "\n",
    "preprocessor = Pipeline(\n",
    "    [\n",
    "        (\"scaler\", StandardScaler()),\n",
    "        (\"pca\", PCA(n_components=2, random_state=42)),\n",
    "    ]\n",
    ")\n",
    "\n",
    "clusterer = Pipeline(\n",
    "    [\n",
    "        (\n",
    "            \"kmeans\",\n",
    "            KMeans(\n",
    "                n_clusters=n_clusters,\n",
    "                init=\"k-means++\",\n",
    "                n_init=50,\n",
    "                max_iter=500,\n",
    "                random_state=42,\n",
    "            ),\n",
    "        ),\n",
    "    ]\n",
    ")\n",
    "\n",
    "pipe = Pipeline(\n",
    "    [\n",
    "        (\"preprocessor\", preprocessor),\n",
    "        (\"clusterer\", clusterer)\n",
    "    ]\n",
    ")\n"
   ]
  },
  {
   "cell_type": "code",
   "execution_count": 9,
   "metadata": {},
   "outputs": [
    {
     "data": {
      "text/plain": [
       "Pipeline(steps=[('preprocessor',\n",
       "                 Pipeline(steps=[('scaler', StandardScaler()),\n",
       "                                 ('pca',\n",
       "                                  PCA(n_components=2, random_state=42))])),\n",
       "                ('clusterer',\n",
       "                 Pipeline(steps=[('kmeans',\n",
       "                                  KMeans(max_iter=500, n_clusters=5, n_init=50,\n",
       "                                         random_state=42))]))])"
      ]
     },
     "execution_count": 9,
     "metadata": {},
     "output_type": "execute_result"
    }
   ],
   "source": [
    "pipe.fit(data)\n"
   ]
  },
  {
   "cell_type": "code",
   "execution_count": 10,
   "metadata": {},
   "outputs": [
    {
     "data": {
      "text/plain": [
       "0.9600019587810825"
      ]
     },
     "execution_count": 10,
     "metadata": {},
     "output_type": "execute_result"
    }
   ],
   "source": [
    "preprocessed_data = pipe[\"preprocessor\"].transform(data)\n",
    "\n",
    "predicted_labels = pipe[\"clusterer\"][\"kmeans\"].labels_\n",
    "\n",
    "silhouette_score(preprocessed_data, predicted_labels)\n"
   ]
  },
  {
   "cell_type": "code",
   "execution_count": 11,
   "metadata": {},
   "outputs": [
    {
     "data": {
      "text/plain": [
       "KMeans(init='random', n_clusters=3, random_state=42)"
      ]
     },
     "execution_count": 11,
     "metadata": {},
     "output_type": "execute_result"
    }
   ],
   "source": [
    "kmeans = KMeans(\n",
    "    init=\"random\",\n",
    "    n_clusters=3,\n",
    "    n_init=10,\n",
    "    max_iter=300,\n",
    "    random_state=42\n",
    ")\n",
    "\n",
    "kmeans_kwargs = {\n",
    "    \"init\": \"random\",\n",
    "    \"n_init\": 10,\n",
    "    \"max_iter\": 300,\n",
    "    \"random_state\": 42,\n",
    "}\n",
    "\n",
    "kmeans.fit(data)\n",
    "\n"
   ]
  },
  {
   "cell_type": "code",
   "execution_count": 12,
   "metadata": {},
   "outputs": [
    {
     "name": "stdout",
     "output_type": "stream",
     "text": [
      "11259.422698508883\n",
      "[[ 5.07909345e-05  8.00469588e-04 -5.16690098e-20 ...  3.04931861e-20\n",
      "   2.71050543e-20 -1.43995601e-19]\n",
      " [ 7.34682985e-04  9.80998848e-04  1.10114283e-20 ...  1.63780931e-04\n",
      "   2.37169225e-20  1.69406589e-20]\n",
      " [ 5.29431477e-04  1.87208712e-03  1.93077216e-05 ... -2.71050543e-20\n",
      "   2.27579662e-05  2.23508727e-05]]\n",
      "31\n"
     ]
    }
   ],
   "source": [
    "# The lowest SSE value\n",
    "print(kmeans.inertia_)\n",
    "\n",
    "\n",
    "# Final locations of the centroid\n",
    "print(kmeans.cluster_centers_)\n",
    "\n",
    "\n",
    "# The number of iterations required to converge\n",
    "print(kmeans.n_iter_)\n",
    "\n",
    "label = kmeans.fit_predict(data)\n"
   ]
  },
  {
   "cell_type": "code",
   "execution_count": 16,
   "metadata": {},
   "outputs": [
    {
     "name": "stdout",
     "output_type": "stream",
     "text": [
      "1\n",
      "2\n",
      "3\n",
      "4\n",
      "5\n",
      "6\n",
      "7\n",
      "8\n",
      "9\n",
      "10\n"
     ]
    }
   ],
   "source": [
    "# A list holds the SSE values for each k\n",
    "run = True\n",
    "\n",
    "if run:\n",
    "    sse = []\n",
    "    for k in range(1, 11):\n",
    "        kmeans = KMeans(n_clusters=k, **kmeans_kwargs)\n",
    "        kmeans.fit(data)\n",
    "        sse.append(kmeans.inertia_)\n",
    "        print(k)\n",
    "\n"
   ]
  },
  {
   "cell_type": "code",
   "execution_count": 17,
   "metadata": {},
   "outputs": [
    {
     "name": "stdout",
     "output_type": "stream",
     "text": [
      "[11387.129677665245, 11320.161221822545, 11259.422698508883, 11214.46686613347, 11174.330736352538, 11143.920602161763, 11112.539214946843, 11085.482938720914, 11054.192836029872, 11034.45359936243]\n"
     ]
    }
   ],
   "source": [
    "print(sse)"
   ]
  },
  {
   "cell_type": "code",
   "execution_count": 18,
   "metadata": {},
   "outputs": [
    {
     "data": {
      "image/png": "[encoded data removed]",
      "text/plain": [
       "<Figure size 432x288 with 1 Axes>"
      ]
     },
     "metadata": {
      "needs_background": "light"
     },
     "output_type": "display_data"
    }
   ],
   "source": [
    "import matplotlib.pyplot as plt\n",
    "plt.plot(sse)\n",
    "plt.ylabel('some numbers')\n",
    "plt.show()\n"
   ]
  }
 ],
 "metadata": {
  "kernelspec": {
   "display_name": "Python 3",
   "language": "python",
   "name": "python3"
  },
  "language_info": {
   "codemirror_mode": {
    "name": "ipython",
    "version": 3
   },
   "file_extension": ".py",
   "mimetype": "text/x-python",
   "name": "python",
   "nbconvert_exporter": "python",
   "pygments_lexer": "ipython3",
   "version": "3.8.5"
  },
  "orig_nbformat": 4
 },
 "nbformat": 4,
 "nbformat_minor": 2
}
