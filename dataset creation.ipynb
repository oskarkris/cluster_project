{
 "cells": [
  {
   "cell_type": "code",
   "execution_count": 2,
   "metadata": {},
   "outputs": [],
   "source": [
    "import pandas as pd\n",
    "import numpy as np\n",
    "from IPython.display import HTML\n",
    "#import langdetect\n",
    "\n",
    "from langdetect import detect, detect_langs"
   ]
  },
  {
   "cell_type": "code",
   "execution_count": 4,
   "metadata": {},
   "outputs": [],
   "source": [
    "def combineCSVs():\n",
    "  dft = pd.read_csv('https://raw.githubusercontent.com/oskarkris/cluster_project/main/csvdata/savedrecs%20(1).csv')\n",
    "  print(\"read first\")\n",
    "  for n in range(2,13):\n",
    "    print(\"read \", n)\n",
    "    df_temp = pd.read_csv(\"https://raw.githubusercontent.com/oskarkris/cluster_project/main/csvdata/savedrecs%20(\"+str(n)+\").csv\")\n",
    "    dft = pd.concat([dft, df_temp])\n",
    "  return dft\n",
    "\n",
    "def isEmpty(abstract):\n",
    "    if abstract==\" \" or abstract==\"\":\n",
    "        return True\n",
    "    else:\n",
    "        return False\n",
    "\n",
    "def isEnglish(abstract):\n",
    "    try:\n",
    "        detected = detect_langs(abstract)\n",
    "        lang = detected[0].lang\n",
    "        prob = detected[0].prob\n",
    "        if lang == \"en\" and prob > 0.95:\n",
    "            return True\n",
    "        else:\n",
    "            return False\n",
    "    except:\n",
    "        return False\n",
    "\n",
    "def make_clickable(url, name):\n",
    "    return '<a href=\"{}\" rel=\"noopener noreferrer\" target=\"_blank\">{}</a>'.format(url, name)\n",
    "\n",
    "def generateDF():\n",
    "    dft = combineCSVs()\n",
    "    dft = dft.filter([\"Abstract\", \"UT (Unique WOS ID)\", \"Cited Reference Count\"])\n",
    "    dft = dft.rename(columns={\"UT (Unique WOS ID)\": \"wos\", \"Cited Reference Count\": \"citations\", \"Abstract\":\"abstract\"})\n",
    "    dft[\"index\"] = range(0, len(dft.index))\n",
    "    dft[\"en\"] = dft.apply(lambda x: isEnglish(x[\"abstract\"]), axis=1)\n",
    "    #Adds a link to Web of Science\n",
    "    dft[\"link\"] = dft.apply(lambda x: make_clickable(\"https://www.webofscience.com/wos/woscc/full-record/\" + x[\"wos\"], \"link\"), axis=1)\n",
    "    dft = dft[['index', 'en', 'citations', 'link', 'abstract', 'wos']]\n",
    "    return dft\n",
    "\n",
    "\n",
    "def render(df):\n",
    "    return HTML(df.to_html(render_links=True, escape=False))\n"
   ]
  },
  {
   "cell_type": "code",
   "execution_count": 6,
   "metadata": {},
   "outputs": [
    {
     "name": "stdout",
     "output_type": "stream",
     "text": [
      "read first\n",
      "read  2\n",
      "read  3\n",
      "read  4\n",
      "read  5\n",
      "read  6\n",
      "read  7\n",
      "read  8\n",
      "read  9\n",
      "read  10\n",
      "read  11\n",
      "read  12\n"
     ]
    }
   ],
   "source": [
    "\n",
    "create_new = True\n",
    "if create_new:\n",
    "    df = generateDF()\n",
    "    df.loc[df['en'] == True].to_csv(r'master.csv', index=False)\n",
    "    df.loc[df['en'] == False].to_csv(r'missingAbstracts.csv', index=False)\n",
    "df = pd.read_csv(r'master.csv')\n",
    "dm = pd.read_csv(r'missingAbstracts.csv')"
   ]
  },
  {
   "cell_type": "code",
   "execution_count": 5,
   "metadata": {},
   "outputs": [],
   "source": [
    "from IPython.display import clear_output\n",
    "\n",
    "def addAbstractsManually(missingAbstracts):\n",
    "    indices = (pd.read_csv(r\"manualAbstracts.csv\")[\"index\"]).values.tolist()\n",
    "    abstract = pd.read_csv(r\"manualAbstracts.csv\")['abstract'].values.tolist()\n",
    "    missingAbstracts.set_index('index', drop=False, inplace=True)\n",
    "    for index, row in missingAbstracts.iterrows(): \n",
    "        if index not in indices:\n",
    "            print(\"If the\")\n",
    "            print(\"index: \", index, \"\\n\", flush=True)\n",
    "            print(\"Abstract: \", \"\\n\", row[\"abstract\"], flush=True)\n",
    "            print(\"Link: \", \"\\n\", row[\"link\"], flush=True)\n",
    "            a = input(\"Insert new abstract. Leave blank if you find no abstract\")\n",
    "            indices.append(index)\n",
    "            abstract.append(a)\n",
    "            \n",
    "        else:\n",
    "            print(\"item already has a manually inserted abstract\")\n",
    "        clear_output(wait=True)\n",
    "\n",
    "    data = {'index': indices,\n",
    "                'abstract': abstract}\n",
    "    pd.DataFrame(data).to_csv(r\"manualAbstracts.csv\", index=False)\n",
    "\n"
   ]
  },
  {
   "cell_type": "code",
   "execution_count": 118,
   "metadata": {},
   "outputs": [
    {
     "name": "stdout",
     "output_type": "stream",
     "text": [
      "7406 \n",
      "\n",
      "Abstract:  \n",
      " nan\n",
      "Link:  \n",
      " <a href=\"https://www.webofscience.com/wos/woscc/full-record/WOS:000384714700010\" rel=\"noopener noreferrer\" target=\"_blank\">link</a>\n"
     ]
    }
   ],
   "source": [
    "# NB\n",
    "# Du blir prompta til å oppgi abstrakt til en artikkel som mangler det når du kjører funksjonen\n",
    "# Svaret ditt lagres i \"manualAbstracts.csv\"\n",
    "# Om det ikke finnes et abstract sett det til \"\" - altså ikke legg til informasjon, bare press ENTER\n",
    "# Når du er ferdig trykk ESCAPE\n",
    "addAbstractsManually(dm)"
   ]
  }
 ],
 "metadata": {
  "kernelspec": {
   "display_name": "Python 3",
   "language": "python",
   "name": "python3"
  },
  "language_info": {
   "codemirror_mode": {
    "name": "ipython",
    "version": 3
   },
   "file_extension": ".py",
   "mimetype": "text/x-python",
   "name": "python",
   "nbconvert_exporter": "python",
   "pygments_lexer": "ipython3",
   "version": "3.10.2"
  },
  "orig_nbformat": 4,
  "vscode": {
   "interpreter": {
    "hash": "b5b849740b59898e829a2cf75c921207367acbba25f9d9377ed332832d177c09"
   }
  }
 },
 "nbformat": 4,
 "nbformat_minor": 2
}
