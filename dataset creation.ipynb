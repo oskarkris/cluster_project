{
 "cells": [
  {
   "cell_type": "code",
   "execution_count": 1,
   "metadata": {},
   "outputs": [],
   "source": [
    "import pandas as pd\n",
    "import numpy as np\n",
    "from IPython.display import HTML\n",
    "#import langdetect\n",
    "\n",
    "from langdetect import detect, detect_langs"
   ]
  },
  {
   "cell_type": "code",
   "execution_count": 4,
   "metadata": {},
   "outputs": [],
   "source": [
    "def combineCSVs():\n",
    "  dft = pd.read_csv('https://raw.githubusercontent.com/oskarkris/cluster_project/main/csvdata/savedrecs%20(1).csv')\n",
    "  print(\"read first\")\n",
    "  for n in range(2,13):\n",
    "    print(\"read \", n)\n",
    "    df_temp = pd.read_csv(\"https://raw.githubusercontent.com/oskarkris/cluster_project/main/csvdata/savedrecs%20(\"+str(n)+\").csv\")\n",
    "    dft = pd.concat([dft, df_temp])\n",
    "  return dft\n",
    "\n",
    "def isEmpty(abstract):\n",
    "    if abstract==\" \" or abstract==\"\":\n",
    "        return True\n",
    "    else:\n",
    "        return False\n",
    "\n",
    "def isEnglish(abstract):\n",
    "    try:\n",
    "        detected = detect_langs(abstract)\n",
    "        lang = detected[0].lang\n",
    "        prob = detected[0].prob\n",
    "        if lang == \"en\" and prob > 0.95:\n",
    "            return True\n",
    "        else:\n",
    "            return False\n",
    "    except:\n",
    "        return False\n",
    "\n",
    "def make_clickable(url, name):\n",
    "    return '<a href=\"{}\" rel=\"noopener noreferrer\" target=\"_blank\">{}</a>'.format(url, name)\n",
    "\n",
    "\n",
    "def remove_decimal(value):\n",
    "    return str(value).replace('.0', '')\n",
    "\n",
    "\n",
    "\n",
    "\n",
    "def generateDF():\n",
    "    dft = combineCSVs()\n",
    "    dft = dft.filter([\"Publication Year\", \"Abstract\", \"UT (Unique WOS ID)\", \"Cited Reference Count\", \"Article Title\"])\n",
    "    dft = dft.rename(columns={\"Publication Year\" : \"year\", \"UT (Unique WOS ID)\": \"wos\", \"Article Title\": \"title\",  \"Cited Reference Count\": \"citations\", \"Abstract\": \"abstract\"})\n",
    "    dft['year'] = dft['year'].apply(remove_decimal)\n",
    "    dft[\"index\"] = range(0, len(dft.index))\n",
    "    dft[\"en\"] = dft.apply(lambda x: isEnglish(x[\"abstract\"]), axis=1)\n",
    "    #Adds a link to Web of Science\n",
    "    dft[\"link\"] = dft.apply(lambda x: make_clickable(\"https://www.webofscience.com/wos/woscc/full-record/\" + x[\"wos\"], \"link\"), axis=1)\n",
    "    #dft = dft[['index', 'title', 'year', 'wos', 'en', 'link', 'abstract', 'citations']]\n",
    "    return dft\n",
    "\n",
    "\n",
    "def render(df):\n",
    "    return HTML(df.to_html(render_links=True, escape=False))\n"
   ]
  },
  {
   "cell_type": "code",
   "execution_count": 6,
   "metadata": {},
   "outputs": [
    {
     "name": "stdout",
     "output_type": "stream",
     "text": [
      "read first\n",
      "read  2\n",
      "read  3\n",
      "read  4\n",
      "read  5\n",
      "read  6\n",
      "read  7\n",
      "read  8\n",
      "read  9\n",
      "read  10\n",
      "read  11\n",
      "read  12\n"
     ]
    }
   ],
   "source": [
    "\n",
    "create_new = True\n",
    "if create_new:\n",
    "    df = generateDF()\n",
    "    df.head()\n",
    "    #df.loc[df['en'] == True].to_csv(r'master.csv', index=False)\n",
    "    #df.loc[df['en'] == False].to_csv(r'missingAbstracts.csv', index=False)\n",
    "#df = pd.read_csv(r'master.csv')\n",
    "#dm = pd.read_csv(r'missingAbstracts.csv')\n",
    "\n"
   ]
  },
  {
   "cell_type": "code",
   "execution_count": 28,
   "metadata": {},
   "outputs": [
    {
     "name": "stdout",
     "output_type": "stream",
     "text": [
      "['year', 'abstract', 'wos', 'citations', 'title', 'index', 'en', 'link', 'pub_year']\n",
      "0      2021.0\n",
      "1      2013.0\n",
      "2      2018.0\n",
      "3      2014.0\n",
      "4      2014.0\n",
      "        ...  \n",
      "845    2019.0\n",
      "846    2020.0\n",
      "847    2022.0\n",
      "848    2022.0\n",
      "849    2017.0\n",
      "Name: year, Length: 11850, dtype: float64\n",
      "     year                                           abstract  \\\n",
      "0    2021  Climate change adaptation is one of the main s...   \n",
      "1    2013  The absence of clear signals from the Norwegia...   \n",
      "2    2018  Building a climate-ready adaptation society is...   \n",
      "3    2014  Climate change adaptation frameworks often emp...   \n",
      "4    2014  The Intergovernmental Panel on Climate Change ...   \n",
      "..    ...                                                ...   \n",
      "845  2019  Cities confronted with unsustainable developme...   \n",
      "846  2020  Rangeland ecosystems worldwide are characteriz...   \n",
      "847  2022  Background: The World Health Organization iden...   \n",
      "848  2022  Traditional flood risk paradigms and associate...   \n",
      "849  2017  Calorimetric methods for the performance asses...   \n",
      "\n",
      "                     wos  citations  \\\n",
      "0    WOS:000666451800001         27   \n",
      "1    WOS:000320956800008         55   \n",
      "2    WOS:000417078200110         48   \n",
      "3    WOS:000345061100013         66   \n",
      "4    WOS:000338711600014         56   \n",
      "..                   ...        ...   \n",
      "845  WOS:000456253500009         85   \n",
      "846  WOS:000506491300001         69   \n",
      "847  WOS:000873289500001         49   \n",
      "848  WOS:000877017100001        143   \n",
      "849  WOS:000412959600042         49   \n",
      "\n",
      "                                                 title  index    en  \\\n",
      "0    Financing Climate Change Adaptation: Internati...      0  True   \n",
      "1    Driving the agenda for climate change adaptati...      1  True   \n",
      "2    Climate change adaptation policies and plans: ...      2  True   \n",
      "3    Place-based climate change adaptation: A criti...      3  True   \n",
      "4    Responsibility for private sector adaptation t...      4  True   \n",
      "..                                                 ...    ...   ...   \n",
      "845  Grabbed Urban Landscapes: Socio-spatial Tensio...  11845  True   \n",
      "846  Large-scale and local climatic controls on lar...  11846  True   \n",
      "847  Public Health Measures to Address the Impact o...  11847  True   \n",
      "848  A new framework for flood adaptation: introduc...  11848  True   \n",
      "849  Improved methods for the calorimetric determin...  11849  True   \n",
      "\n",
      "                                                  link pub_year  \n",
      "0    <a href=\"https://www.webofscience.com/wos/wosc...      NaN  \n",
      "1    <a href=\"https://www.webofscience.com/wos/wosc...      NaN  \n",
      "2    <a href=\"https://www.webofscience.com/wos/wosc...      NaN  \n",
      "3    <a href=\"https://www.webofscience.com/wos/wosc...      NaN  \n",
      "4    <a href=\"https://www.webofscience.com/wos/wosc...      NaN  \n",
      "..                                                 ...      ...  \n",
      "845  <a href=\"https://www.webofscience.com/wos/wosc...      NaN  \n",
      "846  <a href=\"https://www.webofscience.com/wos/wosc...      NaN  \n",
      "847  <a href=\"https://www.webofscience.com/wos/wosc...      NaN  \n",
      "848  <a href=\"https://www.webofscience.com/wos/wosc...      NaN  \n",
      "849  <a href=\"https://www.webofscience.com/wos/wosc...      NaN  \n",
      "\n",
      "[11850 rows x 9 columns]\n"
     ]
    }
   ],
   "source": [
    "df.head()\n",
    "print(df.columns.tolist())\n",
    "print(df[\"year\"])\n",
    "\n",
    "\n",
    "\n",
    "print(df)\n",
    "#df[\"fff\"] = df.apply(lambda x: print(x[\"wos\"]))\n"
   ]
  },
  {
   "cell_type": "code",
   "execution_count": null,
   "metadata": {},
   "outputs": [],
   "source": [
    "from IPython.display import clear_output\n",
    "\n",
    "def addAbstractsManually(missingAbstracts):\n",
    "    indices = (pd.read_csv(r\"manualAbstracts.csv\")[\"index\"]).values.tolist()\n",
    "    abstract = pd.read_csv(r\"manualAbstracts.csv\")['abstract'].values.tolist()\n",
    "    missingAbstracts.set_index('index', drop=False, inplace=True)\n",
    "    for index, row in missingAbstracts.iterrows(): \n",
    "        if index not in indices:\n",
    "            print(\"If the\")\n",
    "            print(\"index: \", index, \"\\n\", flush=True)\n",
    "            print(\"Abstract: \", \"\\n\", row[\"abstract\"], flush=True)\n",
    "            print(\"Link: \", \"\\n\", row[\"link\"], flush=True)\n",
    "            a = input(\"Insert new abstract. Leave blank if you find no abstract\")\n",
    "            indices.append(index)\n",
    "            abstract.append(a)\n",
    "            \n",
    "        else:\n",
    "            print(\"item already has a manually inserted abstract\")\n",
    "        clear_output(wait=True)\n",
    "\n",
    "    data = {'index': indices,\n",
    "                'abstract': abstract}\n",
    "    pd.DataFrame(data).to_csv(r\"manualAbstracts.csv\", index=False)\n",
    "\n"
   ]
  },
  {
   "cell_type": "code",
   "execution_count": null,
   "metadata": {},
   "outputs": [
    {
     "name": "stdout",
     "output_type": "stream",
     "text": [
      "If the\n",
      "index:  7790 \n",
      "\n",
      "Abstract:  \n",
      " nan\n",
      "Link:  \n",
      " <a href=\"https://www.webofscience.com/wos/woscc/full-record/WOS:000377053000007\" rel=\"noopener noreferrer\" target=\"_blank\">link</a>\n"
     ]
    },
    {
     "ename": "KeyboardInterrupt",
     "evalue": "Interrupted by user",
     "output_type": "error",
     "traceback": [
      "\u001b[1;31m---------------------------------------------------------------------------\u001b[0m",
      "\u001b[1;31mKeyboardInterrupt\u001b[0m                         Traceback (most recent call last)",
      "\u001b[1;32mc:\\Users\\anton\\Documents\\UiB\\Vit.ass\\cluster_project\\dataset creation.ipynb Cell 5\u001b[0m in \u001b[0;36m<module>\u001b[1;34m\u001b[0m\n\u001b[0;32m      <a href='vscode-notebook-cell:/c%3A/Users/anton/Documents/UiB/Vit.ass/cluster_project/dataset%20creation.ipynb#W4sZmlsZQ%3D%3D?line=0'>1</a>\u001b[0m \u001b[39m# NB\u001b[39;00m\n\u001b[0;32m      <a href='vscode-notebook-cell:/c%3A/Users/anton/Documents/UiB/Vit.ass/cluster_project/dataset%20creation.ipynb#W4sZmlsZQ%3D%3D?line=1'>2</a>\u001b[0m \u001b[39m# Du blir prompta til å oppgi abstrakt til en artikkel som mangler det når du kjører funksjonen\u001b[39;00m\n\u001b[0;32m      <a href='vscode-notebook-cell:/c%3A/Users/anton/Documents/UiB/Vit.ass/cluster_project/dataset%20creation.ipynb#W4sZmlsZQ%3D%3D?line=2'>3</a>\u001b[0m \u001b[39m# Svaret ditt lagres i \"manualAbstracts.csv\"\u001b[39;00m\n\u001b[0;32m      <a href='vscode-notebook-cell:/c%3A/Users/anton/Documents/UiB/Vit.ass/cluster_project/dataset%20creation.ipynb#W4sZmlsZQ%3D%3D?line=3'>4</a>\u001b[0m \u001b[39m# Om det ikke finnes et abstract sett det til \"\" - altså ikke legg til informasjon, bare press ENTER\u001b[39;00m\n\u001b[0;32m      <a href='vscode-notebook-cell:/c%3A/Users/anton/Documents/UiB/Vit.ass/cluster_project/dataset%20creation.ipynb#W4sZmlsZQ%3D%3D?line=4'>5</a>\u001b[0m \u001b[39m# Når du er ferdig trykk ESCAPE\u001b[39;00m\n\u001b[1;32m----> <a href='vscode-notebook-cell:/c%3A/Users/anton/Documents/UiB/Vit.ass/cluster_project/dataset%20creation.ipynb#W4sZmlsZQ%3D%3D?line=5'>6</a>\u001b[0m addAbstractsManually(dm)\n",
      "\u001b[1;32mc:\\Users\\anton\\Documents\\UiB\\Vit.ass\\cluster_project\\dataset creation.ipynb Cell 5\u001b[0m in \u001b[0;36maddAbstractsManually\u001b[1;34m(missingAbstracts)\u001b[0m\n\u001b[0;32m     <a href='vscode-notebook-cell:/c%3A/Users/anton/Documents/UiB/Vit.ass/cluster_project/dataset%20creation.ipynb#W4sZmlsZQ%3D%3D?line=10'>11</a>\u001b[0m \u001b[39mprint\u001b[39m(\u001b[39m\"\u001b[39m\u001b[39mAbstract: \u001b[39m\u001b[39m\"\u001b[39m, \u001b[39m\"\u001b[39m\u001b[39m\\n\u001b[39;00m\u001b[39m\"\u001b[39m, row[\u001b[39m\"\u001b[39m\u001b[39mabstract\u001b[39m\u001b[39m\"\u001b[39m], flush\u001b[39m=\u001b[39m\u001b[39mTrue\u001b[39;00m)\n\u001b[0;32m     <a href='vscode-notebook-cell:/c%3A/Users/anton/Documents/UiB/Vit.ass/cluster_project/dataset%20creation.ipynb#W4sZmlsZQ%3D%3D?line=11'>12</a>\u001b[0m \u001b[39mprint\u001b[39m(\u001b[39m\"\u001b[39m\u001b[39mLink: \u001b[39m\u001b[39m\"\u001b[39m, \u001b[39m\"\u001b[39m\u001b[39m\\n\u001b[39;00m\u001b[39m\"\u001b[39m, row[\u001b[39m\"\u001b[39m\u001b[39mlink\u001b[39m\u001b[39m\"\u001b[39m], flush\u001b[39m=\u001b[39m\u001b[39mTrue\u001b[39;00m)\n\u001b[1;32m---> <a href='vscode-notebook-cell:/c%3A/Users/anton/Documents/UiB/Vit.ass/cluster_project/dataset%20creation.ipynb#W4sZmlsZQ%3D%3D?line=12'>13</a>\u001b[0m a \u001b[39m=\u001b[39m \u001b[39minput\u001b[39;49m(\u001b[39m\"\u001b[39;49m\u001b[39mInsert new abstract. Leave blank if you find no abstract\u001b[39;49m\u001b[39m\"\u001b[39;49m)\n\u001b[0;32m     <a href='vscode-notebook-cell:/c%3A/Users/anton/Documents/UiB/Vit.ass/cluster_project/dataset%20creation.ipynb#W4sZmlsZQ%3D%3D?line=13'>14</a>\u001b[0m indices\u001b[39m.\u001b[39mappend(index)\n\u001b[0;32m     <a href='vscode-notebook-cell:/c%3A/Users/anton/Documents/UiB/Vit.ass/cluster_project/dataset%20creation.ipynb#W4sZmlsZQ%3D%3D?line=14'>15</a>\u001b[0m abstract\u001b[39m.\u001b[39mappend(a)\n",
      "File \u001b[1;32mc:\\Users\\anton\\AppData\\Local\\Programs\\Python\\Python38\\lib\\site-packages\\ipykernel\\kernelbase.py:1062\u001b[0m, in \u001b[0;36mKernel.raw_input\u001b[1;34m(self, prompt)\u001b[0m\n\u001b[0;32m   1058\u001b[0m \u001b[39mif\u001b[39;00m \u001b[39mnot\u001b[39;00m \u001b[39mself\u001b[39m\u001b[39m.\u001b[39m_allow_stdin:\n\u001b[0;32m   1059\u001b[0m     \u001b[39mraise\u001b[39;00m StdinNotImplementedError(\n\u001b[0;32m   1060\u001b[0m         \u001b[39m\"\u001b[39m\u001b[39mraw_input was called, but this frontend does not support input requests.\u001b[39m\u001b[39m\"\u001b[39m\n\u001b[0;32m   1061\u001b[0m     )\n\u001b[1;32m-> 1062\u001b[0m \u001b[39mreturn\u001b[39;00m \u001b[39mself\u001b[39;49m\u001b[39m.\u001b[39;49m_input_request(\n\u001b[0;32m   1063\u001b[0m     \u001b[39mstr\u001b[39;49m(prompt),\n\u001b[0;32m   1064\u001b[0m     \u001b[39mself\u001b[39;49m\u001b[39m.\u001b[39;49m_parent_ident[\u001b[39m\"\u001b[39;49m\u001b[39mshell\u001b[39;49m\u001b[39m\"\u001b[39;49m],\n\u001b[0;32m   1065\u001b[0m     \u001b[39mself\u001b[39;49m\u001b[39m.\u001b[39;49mget_parent(\u001b[39m\"\u001b[39;49m\u001b[39mshell\u001b[39;49m\u001b[39m\"\u001b[39;49m),\n\u001b[0;32m   1066\u001b[0m     password\u001b[39m=\u001b[39;49m\u001b[39mFalse\u001b[39;49;00m,\n\u001b[0;32m   1067\u001b[0m )\n",
      "File \u001b[1;32mc:\\Users\\anton\\AppData\\Local\\Programs\\Python\\Python38\\lib\\site-packages\\ipykernel\\kernelbase.py:1107\u001b[0m, in \u001b[0;36mKernel._input_request\u001b[1;34m(self, prompt, ident, parent, password)\u001b[0m\n\u001b[0;32m   1104\u001b[0m             \u001b[39mbreak\u001b[39;00m\n\u001b[0;32m   1105\u001b[0m \u001b[39mexcept\u001b[39;00m \u001b[39mKeyboardInterrupt\u001b[39;00m:\n\u001b[0;32m   1106\u001b[0m     \u001b[39m# re-raise KeyboardInterrupt, to truncate traceback\u001b[39;00m\n\u001b[1;32m-> 1107\u001b[0m     \u001b[39mraise\u001b[39;00m \u001b[39mKeyboardInterrupt\u001b[39;00m(\u001b[39m\"\u001b[39m\u001b[39mInterrupted by user\u001b[39m\u001b[39m\"\u001b[39m) \u001b[39mfrom\u001b[39;00m \u001b[39mNone\u001b[39m\n\u001b[0;32m   1108\u001b[0m \u001b[39mexcept\u001b[39;00m \u001b[39mException\u001b[39;00m:\n\u001b[0;32m   1109\u001b[0m     \u001b[39mself\u001b[39m\u001b[39m.\u001b[39mlog\u001b[39m.\u001b[39mwarning(\u001b[39m\"\u001b[39m\u001b[39mInvalid Message:\u001b[39m\u001b[39m\"\u001b[39m, exc_info\u001b[39m=\u001b[39m\u001b[39mTrue\u001b[39;00m)\n",
      "\u001b[1;31mKeyboardInterrupt\u001b[0m: Interrupted by user"
     ]
    }
   ],
   "source": [
    "# NB\n",
    "# Du blir prompta til å oppgi abstrakt til en artikkel som mangler det når du kjører funksjonen\n",
    "# Svaret ditt lagres i \"manualAbstracts.csv\"\n",
    "# Om det ikke finnes et abstract sett det til \"\" - altså ikke legg til informasjon, bare press ENTER\n",
    "# Når du er ferdig trykk ESCAPE\n",
    "man = False\n",
    "if man:\n",
    "    addAbstractsManually(dm)"
   ]
  }
 ],
 "metadata": {
  "kernelspec": {
   "display_name": "Python 3",
   "language": "python",
   "name": "python3"
  },
  "language_info": {
   "codemirror_mode": {
    "name": "ipython",
    "version": 3
   },
   "file_extension": ".py",
   "mimetype": "text/x-python",
   "name": "python",
   "nbconvert_exporter": "python",
   "pygments_lexer": "ipython3",
   "version": "3.8.5"
  },
  "orig_nbformat": 4,
  "vscode": {
   "interpreter": {
    "hash": "b5b849740b59898e829a2cf75c921207367acbba25f9d9377ed332832d177c09"
   }
  }
 },
 "nbformat": 4,
 "nbformat_minor": 2
}
